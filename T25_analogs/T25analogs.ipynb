{
 "cells": [
  {
   "cell_type": "code",
   "execution_count": 1,
   "metadata": {},
   "outputs": [
    {
     "name": "stdout",
     "output_type": "stream",
     "text": [
      "INFO: Pandarallel will run on 8 workers.\n",
      "INFO: Pandarallel will use Memory file system to transfer data between the main process and workers.\n"
     ]
    }
   ],
   "source": [
    "import pandas as pd\n",
    "import os\n",
    "import numpy as np\n",
    "from tqdm.notebook import tqdm\n",
    "import joblib\n",
    "from sklearn.neighbors import NearestNeighbors\n",
    "import tmap as tm\n",
    "from scipy.stats import rankdata\n",
    "from matplotlib.colors import ListedColormap\n",
    "from faerun import Faerun\n",
    "import os\n",
    "from map4 import MAP4Calculator\n",
    "from pandarallel import pandarallel\n",
    "pandarallel.initialize(progress_bar=True)\n",
    "from rdkit import Chem\n",
    "from pdga.sequence import smiles_from_seq"
   ]
  },
  {
   "cell_type": "code",
   "execution_count": 2,
   "metadata": {},
   "outputs": [],
   "source": [
    "elements = [\"K\",\"L\",\"\"]\n",
    "branching_elements = [\"B\"]\n",
    "enumeration = {}\n",
    "enumeration[1] = [e for e in elements]\n",
    "\n",
    "for i in range (2,16):\n",
    "    if i % 4 == 0:\n",
    "        elements_to_append = branching_elements\n",
    "    else:\n",
    "        elements_to_append = elements\n",
    "    enumeration[i] = set()\n",
    "    for e in elements_to_append:\n",
    "        for previous_enumeration in enumeration[i-1]:\n",
    "            enumeration[i].add( previous_enumeration + e )\n"
   ]
  },
  {
   "cell_type": "code",
   "execution_count": 3,
   "metadata": {},
   "outputs": [
    {
     "data": {
      "text/plain": [
       "50625"
      ]
     },
     "execution_count": 3,
     "metadata": {},
     "output_type": "execute_result"
    }
   ],
   "source": [
    "len(enumeration[15])"
   ]
  },
  {
   "cell_type": "code",
   "execution_count": 4,
   "metadata": {},
   "outputs": [],
   "source": [
    "KL_enum = enumeration[15]"
   ]
  },
  {
   "cell_type": "code",
   "execution_count": 5,
   "metadata": {},
   "outputs": [],
   "source": [
    "lib = pd.read_csv(\"/data/Peptides/dendrimers/T25_analogs/database/52k.mxfp\", sep=\" \", header=None)"
   ]
  },
  {
   "cell_type": "code",
   "execution_count": 6,
   "metadata": {},
   "outputs": [],
   "source": [
    "lib.columns=[\"SMILES\",\"seq\", \"MXFP\", \"prop\"]"
   ]
  },
  {
   "cell_type": "code",
   "execution_count": 7,
   "metadata": {},
   "outputs": [],
   "source": [
    "lib[\"seq2\"] = lib.seq.map(lambda x: x.replace(\"(\", \"\").replace(\")\",\"\").replace(\"8K\",\"B\").replace(\"4K\",\"B\").replace(\"2K\",\"B\"))"
   ]
  },
  {
   "cell_type": "code",
   "execution_count": 8,
   "metadata": {},
   "outputs": [],
   "source": [
    "lib[\"seq3\"] = lib.seq2.map(lambda x: x.replace(\"B\", \"4\"))"
   ]
  },
  {
   "cell_type": "code",
   "execution_count": 9,
   "metadata": {},
   "outputs": [],
   "source": [
    "lib[\"SMILES_old\"] = lib[\"SMILES\"]"
   ]
  },
  {
   "cell_type": "code",
   "execution_count": 12,
   "metadata": {},
   "outputs": [],
   "source": [
    "lib[\"SMILES\"] = lib.seq3.map(smiles_from_seq)"
   ]
  },
  {
   "cell_type": "code",
   "execution_count": 13,
   "metadata": {},
   "outputs": [],
   "source": [
    "def is_in_KL_enum(seq):\n",
    "    if seq[0] == \"K\" and \"B\"+seq[1:] in KL_enum:\n",
    "        return True\n",
    "    elif seq in KL_enum:\n",
    "        return True\n",
    "    else:\n",
    "        return False"
   ]
  },
  {
   "cell_type": "code",
   "execution_count": 14,
   "metadata": {},
   "outputs": [],
   "source": [
    "lib[\"in_50k\"] = lib.seq2.map(is_in_KL_enum)"
   ]
  },
  {
   "cell_type": "code",
   "execution_count": 15,
   "metadata": {},
   "outputs": [
    {
     "data": {
      "text/html": [
       "<div>\n",
       "<style scoped>\n",
       "    .dataframe tbody tr th:only-of-type {\n",
       "        vertical-align: middle;\n",
       "    }\n",
       "\n",
       "    .dataframe tbody tr th {\n",
       "        vertical-align: top;\n",
       "    }\n",
       "\n",
       "    .dataframe thead th {\n",
       "        text-align: right;\n",
       "    }\n",
       "</style>\n",
       "<table border=\"1\" class=\"dataframe\">\n",
       "  <thead>\n",
       "    <tr style=\"text-align: right;\">\n",
       "      <th></th>\n",
       "      <th>SMILES</th>\n",
       "      <th>seq</th>\n",
       "      <th>MXFP</th>\n",
       "      <th>prop</th>\n",
       "      <th>seq2</th>\n",
       "      <th>seq3</th>\n",
       "      <th>SMILES_old</th>\n",
       "      <th>in_50k</th>\n",
       "    </tr>\n",
       "  </thead>\n",
       "  <tbody>\n",
       "    <tr>\n",
       "      <th>0</th>\n",
       "      <td>(CC(C)C[C@H](NC(=O)[C@H](CC(C)C)NC(=O)[C@H](CC...</td>\n",
       "      <td>(KLL)8(KLLL)4(KLLL)2KLLL</td>\n",
       "      <td>4;4;6;7;8;9;10;12;15;18;23;30;39;47;55;67;86;1...</td>\n",
       "      <td>432;260;0;53;67;16;1</td>\n",
       "      <td>KLLBLLLBLLLBLLL</td>\n",
       "      <td>KLL4LLL4LLL4LLL</td>\n",
       "      <td>CC(C)CC(NC(=O)C(CC(C)C)NC(=O)C(CC(C)C)NC(=O)C(...</td>\n",
       "      <td>True</td>\n",
       "    </tr>\n",
       "    <tr>\n",
       "      <th>1</th>\n",
       "      <td>(CC(C)C[C@H](NC(=O)[C@H](CC(C)C)NC(=O)[C@H](CC...</td>\n",
       "      <td>(KKL)8(KLLL)4(KLLL)2KLLL</td>\n",
       "      <td>4;4;6;7;8;9;10;12;15;18;23;29;38;47;55;67;85;1...</td>\n",
       "      <td>440;260;0;53;75;24;1</td>\n",
       "      <td>KKLBLLLBLLLBLLL</td>\n",
       "      <td>KKL4LLL4LLL4LLL</td>\n",
       "      <td>CC(C)CC(NC(=O)C(CC(C)C)NC(=O)C(CC(C)C)NC(=O)C(...</td>\n",
       "      <td>True</td>\n",
       "    </tr>\n",
       "    <tr>\n",
       "      <th>2</th>\n",
       "      <td>(CC(C)C[C@H](NC(=O)[C@H](CC(C)C)NC(=O)[C@H](CC...</td>\n",
       "      <td>(KLL)8(KLLL)4(KLLL)2KLL</td>\n",
       "      <td>4;4;6;7;8;9;10;12;15;18;23;30;39;47;55;66;84;1...</td>\n",
       "      <td>424;255;0;52;66;16;1</td>\n",
       "      <td>KLLBLLLBLLLBLL</td>\n",
       "      <td>KLL4LLL4LLL4LL</td>\n",
       "      <td>CC(C)CC(NC(=O)C(CC(C)C)NC(=O)C(CCCCNC(=O)C(CC(...</td>\n",
       "      <td>True</td>\n",
       "    </tr>\n",
       "    <tr>\n",
       "      <th>3</th>\n",
       "      <td>(CC(C)C[C@H](NC(=O)[C@H](CC(C)C)NC(=O)[C@H](CC...</td>\n",
       "      <td>(KLL)8(KLLL)4(KLL)2KLLL</td>\n",
       "      <td>4;4;6;7;8;10;10;12;15;18;23;30;39;48;57;70;90;...</td>\n",
       "      <td>416;250;0;51;65;16;1</td>\n",
       "      <td>KLLBLLLBLLBLLL</td>\n",
       "      <td>KLL4LLL4LL4LLL</td>\n",
       "      <td>CC(C)CC(NC(=O)C(CC(C)C)NC(=O)C(CC(C)C)NC(=O)C(...</td>\n",
       "      <td>True</td>\n",
       "    </tr>\n",
       "    <tr>\n",
       "      <th>4</th>\n",
       "      <td>(CC(C)C[C@H](NC(=O)[C@H](CC(C)C)NC(=O)[C@H](CC...</td>\n",
       "      <td>(KLL)8(KLL)4(KLLL)2KLLL</td>\n",
       "      <td>5;4;6;7;8;10;10;12;15;19;24;31;40;50;60;74;92;...</td>\n",
       "      <td>400;240;0;49;63;16;1</td>\n",
       "      <td>KLLBLLBLLLBLLL</td>\n",
       "      <td>KLL4LL4LLL4LLL</td>\n",
       "      <td>CC(C)CC(NC(=O)C(CC(C)C)NC(=O)C(CC(C)C)NC(=O)C(...</td>\n",
       "      <td>True</td>\n",
       "    </tr>\n",
       "    <tr>\n",
       "      <th>...</th>\n",
       "      <td>...</td>\n",
       "      <td>...</td>\n",
       "      <td>...</td>\n",
       "      <td>...</td>\n",
       "      <td>...</td>\n",
       "      <td>...</td>\n",
       "      <td>...</td>\n",
       "      <td>...</td>\n",
       "    </tr>\n",
       "    <tr>\n",
       "      <th>52520</th>\n",
       "      <td>(N[C@@H](CCCCN)C(=O)N[C@@H](CCCCN)C(=O)N[C@@H]...</td>\n",
       "      <td>(KKK)4(KKKK)2K</td>\n",
       "      <td>6;6;8;9;10;12;14;16;21;26;31;37;46;58;67;67;65...</td>\n",
       "      <td>226;125;0;26;50;26;1</td>\n",
       "      <td>KKKBKKKB</td>\n",
       "      <td>KKK4KKK4</td>\n",
       "      <td>[NH3+]CCCCC([NH3+])C(=O)NC(CCCC[NH3+])C(=O)NC(...</td>\n",
       "      <td>True</td>\n",
       "    </tr>\n",
       "    <tr>\n",
       "      <th>52525</th>\n",
       "      <td>(N[C@@H](CCCCN)C(=O)N[C@@H](CCCCN)C(=O)N[C@@H]...</td>\n",
       "      <td>(KKKK)4(K)2K</td>\n",
       "      <td>6;6;8;9;11;12;14;17;21;26;31;36;43;53;70;89;10...</td>\n",
       "      <td>208;115;0;24;46;24;1</td>\n",
       "      <td>KKKKBB</td>\n",
       "      <td>KKKK44</td>\n",
       "      <td>[NH3+]CCCCC([NH3+])C(=O)NC(CCCC[NH3+])C(=O)NC(...</td>\n",
       "      <td>True</td>\n",
       "    </tr>\n",
       "    <tr>\n",
       "      <th>52526</th>\n",
       "      <td>(N[C@@H](CCCCN)C(=O)N[C@@H](CCCCN)C(=O)N[C@@H]...</td>\n",
       "      <td>(KKKK)4(KK)2K</td>\n",
       "      <td>6;6;8;9;10;12;14;16;21;26;31;37;44;53;66;79;88...</td>\n",
       "      <td>226;125;0;26;50;26;1</td>\n",
       "      <td>KKKKBKB</td>\n",
       "      <td>KKKK4K4</td>\n",
       "      <td>[NH3+]CCCCC([NH3+])C(=O)NC(CCCC[NH3+])C(=O)NC(...</td>\n",
       "      <td>True</td>\n",
       "    </tr>\n",
       "    <tr>\n",
       "      <th>52527</th>\n",
       "      <td>(N[C@@H](CCCCN)C(=O)N[C@@H](CCCCN)C(=O)N[C@@H]...</td>\n",
       "      <td>(KKKK)4(KKK)2K</td>\n",
       "      <td>6;6;7;9;10;12;13;16;20;25;30;36;44;54;65;74;78...</td>\n",
       "      <td>244;135;0;28;54;28;1</td>\n",
       "      <td>KKKKBKKB</td>\n",
       "      <td>KKKK4KK4</td>\n",
       "      <td>[NH3+]CCCCC([NH3+])C(=O)NC(CCCC[NH3+])C(=O)NC(...</td>\n",
       "      <td>True</td>\n",
       "    </tr>\n",
       "    <tr>\n",
       "      <th>52528</th>\n",
       "      <td>(N[C@@H](CCCCN)C(=O)N[C@@H](CCCCN)C(=O)N[C@@H]...</td>\n",
       "      <td>(KKKK)4(KKKK)2K</td>\n",
       "      <td>6;6;7;8;10;11;13;16;20;24;30;36;43;54;65;73;74...</td>\n",
       "      <td>262;145;0;30;58;30;1</td>\n",
       "      <td>KKKKBKKKB</td>\n",
       "      <td>KKKK4KKK4</td>\n",
       "      <td>[NH3+]CCCCC([NH3+])C(=O)NC(CCCC[NH3+])C(=O)NC(...</td>\n",
       "      <td>True</td>\n",
       "    </tr>\n",
       "  </tbody>\n",
       "</table>\n",
       "<p>50625 rows × 8 columns</p>\n",
       "</div>"
      ],
      "text/plain": [
       "                                                  SMILES  \\\n",
       "0      (CC(C)C[C@H](NC(=O)[C@H](CC(C)C)NC(=O)[C@H](CC...   \n",
       "1      (CC(C)C[C@H](NC(=O)[C@H](CC(C)C)NC(=O)[C@H](CC...   \n",
       "2      (CC(C)C[C@H](NC(=O)[C@H](CC(C)C)NC(=O)[C@H](CC...   \n",
       "3      (CC(C)C[C@H](NC(=O)[C@H](CC(C)C)NC(=O)[C@H](CC...   \n",
       "4      (CC(C)C[C@H](NC(=O)[C@H](CC(C)C)NC(=O)[C@H](CC...   \n",
       "...                                                  ...   \n",
       "52520  (N[C@@H](CCCCN)C(=O)N[C@@H](CCCCN)C(=O)N[C@@H]...   \n",
       "52525  (N[C@@H](CCCCN)C(=O)N[C@@H](CCCCN)C(=O)N[C@@H]...   \n",
       "52526  (N[C@@H](CCCCN)C(=O)N[C@@H](CCCCN)C(=O)N[C@@H]...   \n",
       "52527  (N[C@@H](CCCCN)C(=O)N[C@@H](CCCCN)C(=O)N[C@@H]...   \n",
       "52528  (N[C@@H](CCCCN)C(=O)N[C@@H](CCCCN)C(=O)N[C@@H]...   \n",
       "\n",
       "                            seq  \\\n",
       "0      (KLL)8(KLLL)4(KLLL)2KLLL   \n",
       "1      (KKL)8(KLLL)4(KLLL)2KLLL   \n",
       "2       (KLL)8(KLLL)4(KLLL)2KLL   \n",
       "3       (KLL)8(KLLL)4(KLL)2KLLL   \n",
       "4       (KLL)8(KLL)4(KLLL)2KLLL   \n",
       "...                         ...   \n",
       "52520            (KKK)4(KKKK)2K   \n",
       "52525              (KKKK)4(K)2K   \n",
       "52526             (KKKK)4(KK)2K   \n",
       "52527            (KKKK)4(KKK)2K   \n",
       "52528           (KKKK)4(KKKK)2K   \n",
       "\n",
       "                                                    MXFP  \\\n",
       "0      4;4;6;7;8;9;10;12;15;18;23;30;39;47;55;67;86;1...   \n",
       "1      4;4;6;7;8;9;10;12;15;18;23;29;38;47;55;67;85;1...   \n",
       "2      4;4;6;7;8;9;10;12;15;18;23;30;39;47;55;66;84;1...   \n",
       "3      4;4;6;7;8;10;10;12;15;18;23;30;39;48;57;70;90;...   \n",
       "4      5;4;6;7;8;10;10;12;15;19;24;31;40;50;60;74;92;...   \n",
       "...                                                  ...   \n",
       "52520  6;6;8;9;10;12;14;16;21;26;31;37;46;58;67;67;65...   \n",
       "52525  6;6;8;9;11;12;14;17;21;26;31;36;43;53;70;89;10...   \n",
       "52526  6;6;8;9;10;12;14;16;21;26;31;37;44;53;66;79;88...   \n",
       "52527  6;6;7;9;10;12;13;16;20;25;30;36;44;54;65;74;78...   \n",
       "52528  6;6;7;8;10;11;13;16;20;24;30;36;43;54;65;73;74...   \n",
       "\n",
       "                       prop             seq2             seq3  \\\n",
       "0      432;260;0;53;67;16;1  KLLBLLLBLLLBLLL  KLL4LLL4LLL4LLL   \n",
       "1      440;260;0;53;75;24;1  KKLBLLLBLLLBLLL  KKL4LLL4LLL4LLL   \n",
       "2      424;255;0;52;66;16;1   KLLBLLLBLLLBLL   KLL4LLL4LLL4LL   \n",
       "3      416;250;0;51;65;16;1   KLLBLLLBLLBLLL   KLL4LLL4LL4LLL   \n",
       "4      400;240;0;49;63;16;1   KLLBLLBLLLBLLL   KLL4LL4LLL4LLL   \n",
       "...                     ...              ...              ...   \n",
       "52520  226;125;0;26;50;26;1         KKKBKKKB         KKK4KKK4   \n",
       "52525  208;115;0;24;46;24;1           KKKKBB           KKKK44   \n",
       "52526  226;125;0;26;50;26;1          KKKKBKB          KKKK4K4   \n",
       "52527  244;135;0;28;54;28;1         KKKKBKKB         KKKK4KK4   \n",
       "52528  262;145;0;30;58;30;1        KKKKBKKKB        KKKK4KKK4   \n",
       "\n",
       "                                              SMILES_old  in_50k  \n",
       "0      CC(C)CC(NC(=O)C(CC(C)C)NC(=O)C(CC(C)C)NC(=O)C(...    True  \n",
       "1      CC(C)CC(NC(=O)C(CC(C)C)NC(=O)C(CC(C)C)NC(=O)C(...    True  \n",
       "2      CC(C)CC(NC(=O)C(CC(C)C)NC(=O)C(CCCCNC(=O)C(CC(...    True  \n",
       "3      CC(C)CC(NC(=O)C(CC(C)C)NC(=O)C(CC(C)C)NC(=O)C(...    True  \n",
       "4      CC(C)CC(NC(=O)C(CC(C)C)NC(=O)C(CC(C)C)NC(=O)C(...    True  \n",
       "...                                                  ...     ...  \n",
       "52520  [NH3+]CCCCC([NH3+])C(=O)NC(CCCC[NH3+])C(=O)NC(...    True  \n",
       "52525  [NH3+]CCCCC([NH3+])C(=O)NC(CCCC[NH3+])C(=O)NC(...    True  \n",
       "52526  [NH3+]CCCCC([NH3+])C(=O)NC(CCCC[NH3+])C(=O)NC(...    True  \n",
       "52527  [NH3+]CCCCC([NH3+])C(=O)NC(CCCC[NH3+])C(=O)NC(...    True  \n",
       "52528  [NH3+]CCCCC([NH3+])C(=O)NC(CCCC[NH3+])C(=O)NC(...    True  \n",
       "\n",
       "[50625 rows x 8 columns]"
      ]
     },
     "execution_count": 15,
     "metadata": {},
     "output_type": "execute_result"
    }
   ],
   "source": [
    "lib.query(\"in_50k == True\")"
   ]
  },
  {
   "cell_type": "code",
   "execution_count": 16,
   "metadata": {},
   "outputs": [],
   "source": [
    "df = lib.query(\"in_50k == True\").sample(frac=1).copy()"
   ]
  },
  {
   "cell_type": "markdown",
   "metadata": {},
   "source": [
    "mxfps_ = df[\"MXFP\"].tolist()\n",
    "mxfps = []\n",
    "\n",
    "for mxfp_ in mxfps_:\n",
    "    mxfp = np.array(list(map(int, mxfp_.split(';'))))\n",
    "    mxfps.append(mxfp)    \n",
    "\n",
    "knn = 60\n",
    "\n",
    "knn_search = NearestNeighbors(n_neighbors=knn, radius=1.0, algorithm='auto', leaf_size=30, metric='manhattan', p=2, metric_params=None, n_jobs=None)\n",
    "knn_search.fit(np.array(mxfps))\n",
    "\n",
    "edge_list = []\n",
    "\n",
    "for i in tqdm(range(len(mxfps))):\n",
    "    dists, idxs = knn_search.kneighbors(mxfps[i].reshape(1,-1))\n",
    "    for j in range(knn):\n",
    "        edge_list.append([i, idxs[0,j], dists[0,j]])"
   ]
  },
  {
   "cell_type": "code",
   "execution_count": 25,
   "metadata": {},
   "outputs": [],
   "source": [
    "MAP4 = MAP4Calculator(dimensions=1024)\n",
    "def calc_map4(SMILES):\n",
    "    mol = Chem.MolFromSmiles(SMILES[0])\n",
    "    map4 = MAP4.calculate(mol)\n",
    "    return np.array(map4)"
   ]
  },
  {
   "cell_type": "code",
   "execution_count": 26,
   "metadata": {},
   "outputs": [
    {
     "data": {
      "application/vnd.jupyter.widget-view+json": {
       "model_id": "dd021d3ad97b4582a9eb52a80a030c0e",
       "version_major": 2,
       "version_minor": 0
      },
      "text/plain": [
       "VBox(children=(HBox(children=(IntProgress(value=0, description='0.00%', max=6329), Label(value='0 / 6329'))), …"
      ]
     },
     "metadata": {},
     "output_type": "display_data"
    }
   ],
   "source": [
    "if not os.path.exists(\"/data/Peptides/dendrimers/T25_analogs/database/50k_MAP4_.pkl\"):\n",
    "    df[\"MAP4\"] = df.SMILES.parallel_map(calc_map4)\n",
    "    joblib.dump(df, \"/data/Peptides/dendrimers/T25_analogs/database/50k_MAP4.pkl\")\n",
    "else:\n",
    "    df = joblib.load(\"/data/Peptides/dendrimers/T25_analogs/database/50k_MAP4.pkl\")"
   ]
  },
  {
   "cell_type": "code",
   "execution_count": 46,
   "metadata": {},
   "outputs": [
    {
     "data": {
      "text/html": [
       "<div>\n",
       "<style scoped>\n",
       "    .dataframe tbody tr th:only-of-type {\n",
       "        vertical-align: middle;\n",
       "    }\n",
       "\n",
       "    .dataframe tbody tr th {\n",
       "        vertical-align: top;\n",
       "    }\n",
       "\n",
       "    .dataframe thead th {\n",
       "        text-align: right;\n",
       "    }\n",
       "</style>\n",
       "<table border=\"1\" class=\"dataframe\">\n",
       "  <thead>\n",
       "    <tr style=\"text-align: right;\">\n",
       "      <th></th>\n",
       "      <th>SMILES</th>\n",
       "      <th>seq</th>\n",
       "      <th>MXFP</th>\n",
       "      <th>prop</th>\n",
       "      <th>seq2</th>\n",
       "      <th>seq3</th>\n",
       "      <th>SMILES_old</th>\n",
       "      <th>in_50k</th>\n",
       "      <th>MAP4</th>\n",
       "      <th>K</th>\n",
       "      <th>L</th>\n",
       "      <th>pos_hydro_ratio</th>\n",
       "      <th>mw</th>\n",
       "      <th>CBD</th>\n",
       "      <th>selected</th>\n",
       "      <th>synth_2021</th>\n",
       "      <th>label</th>\n",
       "      <th>synth_2018</th>\n",
       "      <th>size_</th>\n",
       "    </tr>\n",
       "  </thead>\n",
       "  <tbody>\n",
       "    <tr>\n",
       "      <th>25369</th>\n",
       "      <td>(CC(C)C[C@H](NC(=O)[C@H](CCCCN)NC(=O)[C@@H](N)...</td>\n",
       "      <td>(KKL)8(KKKL)4(KLLK)2KLLK</td>\n",
       "      <td>4;4;5;6;8;9;10;12;15;18;23;30;39;49;57;68;87;1...</td>\n",
       "      <td>451;260;0;53;86;35;1</td>\n",
       "      <td>KKLBKKLBLLKBLLK</td>\n",
       "      <td>KKL4KKL4LLK4LLK</td>\n",
       "      <td>CC(C)CC(NC(=O)C(CCCC[NH3+])NC(=O)C([NH3+])CCCC...</td>\n",
       "      <td>True</td>\n",
       "      <td>[148235, 63398, 99402, 537365, 276739, 106000,...</td>\n",
       "      <td>27</td>\n",
       "      <td>18</td>\n",
       "      <td>1.50</td>\n",
       "      <td>6408.752458</td>\n",
       "      <td>907</td>\n",
       "      <td>0</td>\n",
       "      <td>0</td>\n",
       "      <td>(KKL)8(KKKL)4(KLLK)2KLLK</td>\n",
       "      <td>0</td>\n",
       "      <td>0.5</td>\n",
       "    </tr>\n",
       "    <tr>\n",
       "      <th>42335</th>\n",
       "      <td>(CC(C)C[C@H](N)C(=O)N[C@@H](CCCCN)C(=O)N[C@@H]...</td>\n",
       "      <td>(LKL)8(KLLL)4(KKKL)2KKL</td>\n",
       "      <td>4;4;6;7;8;9;10;12;15;19;23;30;39;48;56;67;86;1...</td>\n",
       "      <td>429;255;0;52;71;21;1</td>\n",
       "      <td>LKLBLLLBKKLBKL</td>\n",
       "      <td>LKL4LLL4KKL4KL</td>\n",
       "      <td>CC(C)CC([NH3+])C(=O)NC(CCCC[NH3+])C(=O)NC(CC(C...</td>\n",
       "      <td>True</td>\n",
       "      <td>[148235, 313810, 99402, 537365, 284, 470453, 4...</td>\n",
       "      <td>13</td>\n",
       "      <td>31</td>\n",
       "      <td>0.42</td>\n",
       "      <td>6085.515808</td>\n",
       "      <td>845</td>\n",
       "      <td>0</td>\n",
       "      <td>0</td>\n",
       "      <td>(LKL)8(KLLL)4(KKKL)2KKL</td>\n",
       "      <td>0</td>\n",
       "      <td>0.5</td>\n",
       "    </tr>\n",
       "    <tr>\n",
       "      <th>902</th>\n",
       "      <td>(CC(C)C[C@H](NC(=O)[C@H](CC(C)C)NC(=O)[C@H](CC...</td>\n",
       "      <td>(KKK)8(KLKL)4(K)2KLLL</td>\n",
       "      <td>4;4;6;7;8;9;10;12;16;19;24;31;41;53;64;78;104;...</td>\n",
       "      <td>404;230;0;47;81;36;1</td>\n",
       "      <td>KKKBLKLBBLLL</td>\n",
       "      <td>KKK4LKL44LLL</td>\n",
       "      <td>CC(C)CC(NC(=O)C(CC(C)C)NC(=O)C(CC(C)C)NC(=O)C(...</td>\n",
       "      <td>True</td>\n",
       "      <td>[148235, 63398, 99402, 715127, 284, 106000, 49...</td>\n",
       "      <td>28</td>\n",
       "      <td>11</td>\n",
       "      <td>2.55</td>\n",
       "      <td>5745.258974</td>\n",
       "      <td>544</td>\n",
       "      <td>0</td>\n",
       "      <td>0</td>\n",
       "      <td>(KKK)8(KLKL)4(K)2KLLL</td>\n",
       "      <td>0</td>\n",
       "      <td>0.5</td>\n",
       "    </tr>\n",
       "    <tr>\n",
       "      <th>44446</th>\n",
       "      <td>(CC(C)C[C@H](N)C(=O)N[C@@H](CCCCN)C(=O)N[C@@H]...</td>\n",
       "      <td>(LKL)8(KKLK)4(KL)2KLK</td>\n",
       "      <td>4;4;6;7;8;9;10;12;16;19;24;31;41;52;61;73;94;1...</td>\n",
       "      <td>401;235;0;48;71;25;1</td>\n",
       "      <td>LKLBKLKBLBLK</td>\n",
       "      <td>LKL4KLK4L4LK</td>\n",
       "      <td>CC(C)CC([NH3+])C(=O)NC(CCCC[NH3+])C(=O)NC(CC(C...</td>\n",
       "      <td>True</td>\n",
       "      <td>[148235, 313810, 99402, 715127, 284, 106000, 4...</td>\n",
       "      <td>17</td>\n",
       "      <td>23</td>\n",
       "      <td>0.74</td>\n",
       "      <td>5693.223148</td>\n",
       "      <td>507</td>\n",
       "      <td>0</td>\n",
       "      <td>0</td>\n",
       "      <td>(LKL)8(KKLK)4(KL)2KLK</td>\n",
       "      <td>0</td>\n",
       "      <td>0.5</td>\n",
       "    </tr>\n",
       "    <tr>\n",
       "      <th>36899</th>\n",
       "      <td>(CC(C)C[C@H](N)C(=O)N[C@@H](CC(C)C)C(=O)N[C@@H...</td>\n",
       "      <td>(LLK)8(KLKK)4(KKLK)2KLKL</td>\n",
       "      <td>4;4;6;6;8;9;10;12;15;19;23;30;40;50;57;69;90;1...</td>\n",
       "      <td>445;260;0;53;80;29;1</td>\n",
       "      <td>LLKBLKKBKLKBLKL</td>\n",
       "      <td>LLK4LKK4KLK4LKL</td>\n",
       "      <td>CC(C)CC([NH3+])C(=O)NC(CC(C)C)C(=O)NC(CCCC[NH3...</td>\n",
       "      <td>True</td>\n",
       "      <td>[148235, 63398, 99402, 537365, 284, 173590, 49...</td>\n",
       "      <td>21</td>\n",
       "      <td>24</td>\n",
       "      <td>0.88</td>\n",
       "      <td>6318.687064</td>\n",
       "      <td>781</td>\n",
       "      <td>0</td>\n",
       "      <td>0</td>\n",
       "      <td>(LLK)8(KLKK)4(KKLK)2KLKL</td>\n",
       "      <td>0</td>\n",
       "      <td>0.5</td>\n",
       "    </tr>\n",
       "    <tr>\n",
       "      <th>...</th>\n",
       "      <td>...</td>\n",
       "      <td>...</td>\n",
       "      <td>...</td>\n",
       "      <td>...</td>\n",
       "      <td>...</td>\n",
       "      <td>...</td>\n",
       "      <td>...</td>\n",
       "      <td>...</td>\n",
       "      <td>...</td>\n",
       "      <td>...</td>\n",
       "      <td>...</td>\n",
       "      <td>...</td>\n",
       "      <td>...</td>\n",
       "      <td>...</td>\n",
       "      <td>...</td>\n",
       "      <td>...</td>\n",
       "      <td>...</td>\n",
       "      <td>...</td>\n",
       "      <td>...</td>\n",
       "    </tr>\n",
       "    <tr>\n",
       "      <th>13507</th>\n",
       "      <td>(CC(C)C[C@H](NC(=O)[C@H](CCCCN)NC(=O)[C@H](CC(...</td>\n",
       "      <td>(KKK)8(KKLL)4(KL)2KLKL</td>\n",
       "      <td>4;4;6;7;8;9;10;12;15;19;24;31;40;51;60;73;95;1...</td>\n",
       "      <td>421;240;0;49;84;37;1</td>\n",
       "      <td>KKKBKLLBLBLKL</td>\n",
       "      <td>KKK4KLL4L4LKL</td>\n",
       "      <td>CC(C)CC(NC(=O)C(CCCC[NH3+])NC(=O)C(CC(C)C)NC(=...</td>\n",
       "      <td>True</td>\n",
       "      <td>[148235, 721103, 99402, 537365, 276739, 106000...</td>\n",
       "      <td>29</td>\n",
       "      <td>12</td>\n",
       "      <td>2.42</td>\n",
       "      <td>5986.438000</td>\n",
       "      <td>691</td>\n",
       "      <td>0</td>\n",
       "      <td>0</td>\n",
       "      <td>(KKK)8(KKLL)4(KL)2KLKL</td>\n",
       "      <td>0</td>\n",
       "      <td>0.5</td>\n",
       "    </tr>\n",
       "    <tr>\n",
       "      <th>48952</th>\n",
       "      <td>(CC(C)C[C@H](N)C(=O)N[C@@H](CCCCN)C(=O)N[C@@H]...</td>\n",
       "      <td>(LKK)8(KLLL)4(KL)2KKKK</td>\n",
       "      <td>4;4;6;7;8;9;10;12;16;19;24;31;40;51;60;73;96;1...</td>\n",
       "      <td>411;240;0;49;74;27;1</td>\n",
       "      <td>LKKBLLLBLBKKK</td>\n",
       "      <td>LKK4LLL4L4KKK</td>\n",
       "      <td>CC(C)CC([NH3+])C(=O)NC(CCCC[NH3+])C(=O)NC(CCCC...</td>\n",
       "      <td>True</td>\n",
       "      <td>[148235, 313810, 99402, 537365, 276739, 106000...</td>\n",
       "      <td>19</td>\n",
       "      <td>22</td>\n",
       "      <td>0.86</td>\n",
       "      <td>5836.329010</td>\n",
       "      <td>609</td>\n",
       "      <td>0</td>\n",
       "      <td>0</td>\n",
       "      <td>(LKK)8(KLLL)4(KL)2KKKK</td>\n",
       "      <td>0</td>\n",
       "      <td>0.5</td>\n",
       "    </tr>\n",
       "    <tr>\n",
       "      <th>3730</th>\n",
       "      <td>(CC(C)C[C@H](NC(=O)[C@@H](N)CCCCN)C(=O)N[C@@H]...</td>\n",
       "      <td>(KLK)8(KKK)4(KLLL)2KKKK</td>\n",
       "      <td>4;4;6;7;8;9;10;12;15;19;24;31;41;51;61;75;94;1...</td>\n",
       "      <td>419;240;0;49;82;35;1</td>\n",
       "      <td>KLKBKKBLLLBKKK</td>\n",
       "      <td>KLK4KK4LLL4KKK</td>\n",
       "      <td>CC(C)CC(NC(=O)C(CC(C)C)NC(=O)C(CC(C)C)NC(=O)C(...</td>\n",
       "      <td>True</td>\n",
       "      <td>[148235, 63398, 99402, 715127, 284, 106000, 49...</td>\n",
       "      <td>27</td>\n",
       "      <td>14</td>\n",
       "      <td>1.93</td>\n",
       "      <td>5956.416202</td>\n",
       "      <td>614</td>\n",
       "      <td>0</td>\n",
       "      <td>0</td>\n",
       "      <td>(KLK)8(KKK)4(KLLL)2KKKK</td>\n",
       "      <td>0</td>\n",
       "      <td>0.5</td>\n",
       "    </tr>\n",
       "    <tr>\n",
       "      <th>42071</th>\n",
       "      <td>(CC(C)C[C@H](N)C(=O)NCCCC[C@H](NC(=O)[C@@H](N)...</td>\n",
       "      <td>(L)8(KKKK)4(KKLK)2KLL</td>\n",
       "      <td>5;5;7;8;9;10;11;14;18;23;29;36;43;52;64;78;90;...</td>\n",
       "      <td>304;175;0;36;58;24;1</td>\n",
       "      <td>LBKKKBKLKBLL</td>\n",
       "      <td>L4KKK4KLK4LL</td>\n",
       "      <td>CC(C)CC([NH3+])C(=O)NCCCCC(NC(=O)C([NH3+])CC(C...</td>\n",
       "      <td>True</td>\n",
       "      <td>[148235, 721103, 99402, 537365, 284, 470453, 4...</td>\n",
       "      <td>16</td>\n",
       "      <td>12</td>\n",
       "      <td>1.33</td>\n",
       "      <td>4321.203481</td>\n",
       "      <td>318</td>\n",
       "      <td>0</td>\n",
       "      <td>0</td>\n",
       "      <td>(L)8(KKKK)4(KKLK)2KLL</td>\n",
       "      <td>0</td>\n",
       "      <td>0.5</td>\n",
       "    </tr>\n",
       "    <tr>\n",
       "      <th>50699</th>\n",
       "      <td>(CC(C)C[C@H](N)C(=O)N[C@@H](CCCCN)C(=O)N[C@@H]...</td>\n",
       "      <td>(LKK)8(KKLL)4(KLLL)2KLKK</td>\n",
       "      <td>4;4;6;6;8;9;10;12;15;19;23;30;39;49;56;66;86;1...</td>\n",
       "      <td>446;260;0;53;81;30;1</td>\n",
       "      <td>LKKBKLLBLLLBLKK</td>\n",
       "      <td>LKK4KLL4LLL4LKK</td>\n",
       "      <td>CC(C)CC([NH3+])C(=O)NC(CCCC[NH3+])C(=O)NC(CCCC...</td>\n",
       "      <td>True</td>\n",
       "      <td>[148235, 63398, 99402, 715127, 276739, 173590,...</td>\n",
       "      <td>22</td>\n",
       "      <td>23</td>\n",
       "      <td>0.96</td>\n",
       "      <td>6333.697963</td>\n",
       "      <td>933</td>\n",
       "      <td>0</td>\n",
       "      <td>0</td>\n",
       "      <td>(LKK)8(KKLL)4(KLLL)2KLKK</td>\n",
       "      <td>0</td>\n",
       "      <td>0.5</td>\n",
       "    </tr>\n",
       "  </tbody>\n",
       "</table>\n",
       "<p>50625 rows × 19 columns</p>\n",
       "</div>"
      ],
      "text/plain": [
       "                                                  SMILES  \\\n",
       "25369  (CC(C)C[C@H](NC(=O)[C@H](CCCCN)NC(=O)[C@@H](N)...   \n",
       "42335  (CC(C)C[C@H](N)C(=O)N[C@@H](CCCCN)C(=O)N[C@@H]...   \n",
       "902    (CC(C)C[C@H](NC(=O)[C@H](CC(C)C)NC(=O)[C@H](CC...   \n",
       "44446  (CC(C)C[C@H](N)C(=O)N[C@@H](CCCCN)C(=O)N[C@@H]...   \n",
       "36899  (CC(C)C[C@H](N)C(=O)N[C@@H](CC(C)C)C(=O)N[C@@H...   \n",
       "...                                                  ...   \n",
       "13507  (CC(C)C[C@H](NC(=O)[C@H](CCCCN)NC(=O)[C@H](CC(...   \n",
       "48952  (CC(C)C[C@H](N)C(=O)N[C@@H](CCCCN)C(=O)N[C@@H]...   \n",
       "3730   (CC(C)C[C@H](NC(=O)[C@@H](N)CCCCN)C(=O)N[C@@H]...   \n",
       "42071  (CC(C)C[C@H](N)C(=O)NCCCC[C@H](NC(=O)[C@@H](N)...   \n",
       "50699  (CC(C)C[C@H](N)C(=O)N[C@@H](CCCCN)C(=O)N[C@@H]...   \n",
       "\n",
       "                            seq  \\\n",
       "25369  (KKL)8(KKKL)4(KLLK)2KLLK   \n",
       "42335   (LKL)8(KLLL)4(KKKL)2KKL   \n",
       "902       (KKK)8(KLKL)4(K)2KLLL   \n",
       "44446     (LKL)8(KKLK)4(KL)2KLK   \n",
       "36899  (LLK)8(KLKK)4(KKLK)2KLKL   \n",
       "...                         ...   \n",
       "13507    (KKK)8(KKLL)4(KL)2KLKL   \n",
       "48952    (LKK)8(KLLL)4(KL)2KKKK   \n",
       "3730    (KLK)8(KKK)4(KLLL)2KKKK   \n",
       "42071     (L)8(KKKK)4(KKLK)2KLL   \n",
       "50699  (LKK)8(KKLL)4(KLLL)2KLKK   \n",
       "\n",
       "                                                    MXFP  \\\n",
       "25369  4;4;5;6;8;9;10;12;15;18;23;30;39;49;57;68;87;1...   \n",
       "42335  4;4;6;7;8;9;10;12;15;19;23;30;39;48;56;67;86;1...   \n",
       "902    4;4;6;7;8;9;10;12;16;19;24;31;41;53;64;78;104;...   \n",
       "44446  4;4;6;7;8;9;10;12;16;19;24;31;41;52;61;73;94;1...   \n",
       "36899  4;4;6;6;8;9;10;12;15;19;23;30;40;50;57;69;90;1...   \n",
       "...                                                  ...   \n",
       "13507  4;4;6;7;8;9;10;12;15;19;24;31;40;51;60;73;95;1...   \n",
       "48952  4;4;6;7;8;9;10;12;16;19;24;31;40;51;60;73;96;1...   \n",
       "3730   4;4;6;7;8;9;10;12;15;19;24;31;41;51;61;75;94;1...   \n",
       "42071  5;5;7;8;9;10;11;14;18;23;29;36;43;52;64;78;90;...   \n",
       "50699  4;4;6;6;8;9;10;12;15;19;23;30;39;49;56;66;86;1...   \n",
       "\n",
       "                       prop             seq2             seq3  \\\n",
       "25369  451;260;0;53;86;35;1  KKLBKKLBLLKBLLK  KKL4KKL4LLK4LLK   \n",
       "42335  429;255;0;52;71;21;1   LKLBLLLBKKLBKL   LKL4LLL4KKL4KL   \n",
       "902    404;230;0;47;81;36;1     KKKBLKLBBLLL     KKK4LKL44LLL   \n",
       "44446  401;235;0;48;71;25;1     LKLBKLKBLBLK     LKL4KLK4L4LK   \n",
       "36899  445;260;0;53;80;29;1  LLKBLKKBKLKBLKL  LLK4LKK4KLK4LKL   \n",
       "...                     ...              ...              ...   \n",
       "13507  421;240;0;49;84;37;1    KKKBKLLBLBLKL    KKK4KLL4L4LKL   \n",
       "48952  411;240;0;49;74;27;1    LKKBLLLBLBKKK    LKK4LLL4L4KKK   \n",
       "3730   419;240;0;49;82;35;1   KLKBKKBLLLBKKK   KLK4KK4LLL4KKK   \n",
       "42071  304;175;0;36;58;24;1     LBKKKBKLKBLL     L4KKK4KLK4LL   \n",
       "50699  446;260;0;53;81;30;1  LKKBKLLBLLLBLKK  LKK4KLL4LLL4LKK   \n",
       "\n",
       "                                              SMILES_old  in_50k  \\\n",
       "25369  CC(C)CC(NC(=O)C(CCCC[NH3+])NC(=O)C([NH3+])CCCC...    True   \n",
       "42335  CC(C)CC([NH3+])C(=O)NC(CCCC[NH3+])C(=O)NC(CC(C...    True   \n",
       "902    CC(C)CC(NC(=O)C(CC(C)C)NC(=O)C(CC(C)C)NC(=O)C(...    True   \n",
       "44446  CC(C)CC([NH3+])C(=O)NC(CCCC[NH3+])C(=O)NC(CC(C...    True   \n",
       "36899  CC(C)CC([NH3+])C(=O)NC(CC(C)C)C(=O)NC(CCCC[NH3...    True   \n",
       "...                                                  ...     ...   \n",
       "13507  CC(C)CC(NC(=O)C(CCCC[NH3+])NC(=O)C(CC(C)C)NC(=...    True   \n",
       "48952  CC(C)CC([NH3+])C(=O)NC(CCCC[NH3+])C(=O)NC(CCCC...    True   \n",
       "3730   CC(C)CC(NC(=O)C(CC(C)C)NC(=O)C(CC(C)C)NC(=O)C(...    True   \n",
       "42071  CC(C)CC([NH3+])C(=O)NCCCCC(NC(=O)C([NH3+])CC(C...    True   \n",
       "50699  CC(C)CC([NH3+])C(=O)NC(CCCC[NH3+])C(=O)NC(CCCC...    True   \n",
       "\n",
       "                                                    MAP4   K   L  \\\n",
       "25369  [148235, 63398, 99402, 537365, 276739, 106000,...  27  18   \n",
       "42335  [148235, 313810, 99402, 537365, 284, 470453, 4...  13  31   \n",
       "902    [148235, 63398, 99402, 715127, 284, 106000, 49...  28  11   \n",
       "44446  [148235, 313810, 99402, 715127, 284, 106000, 4...  17  23   \n",
       "36899  [148235, 63398, 99402, 537365, 284, 173590, 49...  21  24   \n",
       "...                                                  ...  ..  ..   \n",
       "13507  [148235, 721103, 99402, 537365, 276739, 106000...  29  12   \n",
       "48952  [148235, 313810, 99402, 537365, 276739, 106000...  19  22   \n",
       "3730   [148235, 63398, 99402, 715127, 284, 106000, 49...  27  14   \n",
       "42071  [148235, 721103, 99402, 537365, 284, 470453, 4...  16  12   \n",
       "50699  [148235, 63398, 99402, 715127, 276739, 173590,...  22  23   \n",
       "\n",
       "       pos_hydro_ratio           mw  CBD  selected  synth_2021  \\\n",
       "25369             1.50  6408.752458  907         0           0   \n",
       "42335             0.42  6085.515808  845         0           0   \n",
       "902               2.55  5745.258974  544         0           0   \n",
       "44446             0.74  5693.223148  507         0           0   \n",
       "36899             0.88  6318.687064  781         0           0   \n",
       "...                ...          ...  ...       ...         ...   \n",
       "13507             2.42  5986.438000  691         0           0   \n",
       "48952             0.86  5836.329010  609         0           0   \n",
       "3730              1.93  5956.416202  614         0           0   \n",
       "42071             1.33  4321.203481  318         0           0   \n",
       "50699             0.96  6333.697963  933         0           0   \n",
       "\n",
       "                          label  synth_2018  size_  \n",
       "25369  (KKL)8(KKKL)4(KLLK)2KLLK           0    0.5  \n",
       "42335   (LKL)8(KLLL)4(KKKL)2KKL           0    0.5  \n",
       "902       (KKK)8(KLKL)4(K)2KLLL           0    0.5  \n",
       "44446     (LKL)8(KKLK)4(KL)2KLK           0    0.5  \n",
       "36899  (LLK)8(KLKK)4(KKLK)2KLKL           0    0.5  \n",
       "...                         ...         ...    ...  \n",
       "13507    (KKK)8(KKLL)4(KL)2KLKL           0    0.5  \n",
       "48952    (LKK)8(KLLL)4(KL)2KKKK           0    0.5  \n",
       "3730    (KLK)8(KKK)4(KLLL)2KKKK           0    0.5  \n",
       "42071     (L)8(KKKK)4(KKLK)2KLL           0    0.5  \n",
       "50699  (LKK)8(KKLL)4(KLLL)2KLKK           0    0.5  \n",
       "\n",
       "[50625 rows x 19 columns]"
      ]
     },
     "execution_count": 46,
     "metadata": {},
     "output_type": "execute_result"
    }
   ],
   "source": [
    "df"
   ]
  },
  {
   "cell_type": "code",
   "execution_count": 47,
   "metadata": {},
   "outputs": [],
   "source": [
    "if not os.path.exists(\"/data/Peptides/dendrimers/T25_analogs/database/LSHforest\"):\n",
    "    fps = df[\"MAP4\"].tolist()\n",
    "    fps_ = []\n",
    "\n",
    "    for fp in fps:\n",
    "        fp_ = tm.VectorUint(fp)\n",
    "        fps_.append(fp_)\n",
    "\n",
    "    lf = tm.LSHForest(1024, 32)\n",
    "    lf.batch_add(fps_)\n",
    "\n",
    "    lf.index()\n",
    "    lf.store(\"/data/Peptides/dendrimers/T25_analogs/database/LSHforest\")\n",
    "else:\n",
    "    lf = tm.LSHForest(1024, 32)\n",
    "    lf.restore(\"/data/Peptides/dendrimers/T25_analogs/database/LSHforest\")"
   ]
  },
  {
   "cell_type": "code",
   "execution_count": 48,
   "metadata": {},
   "outputs": [],
   "source": [
    "if not os.path.exists(\"/data/Peptides/dendrimers/T25_analogs/database/tm_layout.pkl\"):\n",
    "    cfg = tm.LayoutConfiguration()\n",
    "\n",
    "    # config\n",
    "    cfg.node_size = 1 / 40\n",
    "    cfg.mmm_repeats = 2\n",
    "    cfg.sl_extra_scaling_steps = 50\n",
    "    cfg.k = 100\n",
    "    cfg.sl_scaling_type = tm.RelativeToAvgLength\n",
    "    # Compute the layout\n",
    "\n",
    "    x_, y_, s, t, gp = tm.layout_from_lsh_forest(lf, cfg)\n",
    "    tm_layout = {\"x\": list(x_), \"y\": list(y_), \"s\" : list(s), \"t\" : list(t)}\n",
    "    joblib.dump(tm_layout, \"/data/Peptides/dendrimers/T25_analogs/database/tm_layout.pkl\")\n",
    "else:\n",
    "    tm_layout = joblib.load(\"/data/Peptides/dendrimers/T25_analogs/database/tm_layout.pkl\")"
   ]
  },
  {
   "cell_type": "markdown",
   "metadata": {},
   "source": [
    "if not os.path.exists(\"/data/Peptides/dendrimers/T25_analogs/database/tm_layout_mxfp.pkl\"):\n",
    "    # Compute the layout\n",
    "    x_, y_, s, t, gp = tm.layout_from_edge_list(len(edge_list), edge_list)\n",
    "    tm_layout_el = {\"x\": list(x_), \"y\": list(y_), \"s\" : list(s), \"t\" : list(t)}\n",
    "    joblib.dump(tm_layout_el, \"/data/Peptides/dendrimers/T25_analogs/database/tm_layout_mxfp.pkl\")\n",
    "else:\n",
    "    tm_layout_el = joblib.load(\"/data/Peptides/dendrimers/T25_analogs/database/tm_layout_mxfp.pkl\")"
   ]
  },
  {
   "cell_type": "code",
   "execution_count": 49,
   "metadata": {},
   "outputs": [],
   "source": [
    "synth_2021_64 = pd.read_excel(\"64_2021.xlsx\", sep=\" \", header=None)\n",
    "synth_2021_64.columns=[\"name\", \"seq\"]\n",
    "synth_2021 = synth_2021_64.seq.to_list()\n",
    "#relevant_2021 = pd.read_csv(\"/data/Peptides/dendrimers/T25_analogs/all.smi\", sep=\" \", header=None)\n",
    "#relevant_2021.columns=[\"SMILES\", \"seq\"]\n",
    "#relevant = relevant_2021.seq.to_list()\n",
    "#relevant_2018 = pd.read_csv(\"/data/Peptides/dendrimers/G3KL-GAanalogs/actives-from-papers\", sep=\" \", header=None)\n",
    "#relevant_2018.columns=[\"name\", \"seq\"]\n",
    "#relevant_old = relevant_2018.seq.to_list()\n",
    "synth_2018_39 = pd.read_excel(\"39_2018.xlsx\", sep=\" \", header=None)\n",
    "synth_2018_39.columns=[\"name\", \"seq\"]\n",
    "\n",
    "synth_2018 = synth_2018_39.seq.to_list()\n",
    "G3KL = \"(KL)8(KKL)4(KKL)2KKL\"\n",
    "T25 = \"(KL)8(KKL)4(KLL)2KKLL\"\n",
    "XG45 =\"(KL)8(KLK)4(KLL)2KLLL\""
   ]
  },
  {
   "cell_type": "code",
   "execution_count": 50,
   "metadata": {},
   "outputs": [
    {
     "data": {
      "text/plain": [
       "39"
      ]
     },
     "execution_count": 50,
     "metadata": {},
     "output_type": "execute_result"
    }
   ],
   "source": [
    "len(synth_2018_39.drop_duplicates())"
   ]
  },
  {
   "cell_type": "code",
   "execution_count": 97,
   "metadata": {},
   "outputs": [
    {
     "data": {
      "text/plain": [
       "36"
      ]
     },
     "execution_count": 97,
     "metadata": {},
     "output_type": "execute_result"
    }
   ],
   "source": [
    "len(set(synth_2018))"
   ]
  },
  {
   "cell_type": "code",
   "execution_count": 52,
   "metadata": {},
   "outputs": [
    {
     "data": {
      "text/plain": [
       "39"
      ]
     },
     "execution_count": 52,
     "metadata": {},
     "output_type": "execute_result"
    }
   ],
   "source": [
    "len(synth_2018)"
   ]
  },
  {
   "cell_type": "code",
   "execution_count": 143,
   "metadata": {},
   "outputs": [],
   "source": [
    "from rdkit.Chem import rdchem, Lipinski, Descriptors\n",
    "from rdkit import Chem\n",
    "from rdkit.Chem.rdmolfiles import MolFromFASTA, MolToSmiles, MolFromSmiles\n",
    "def pos_hydro_ratio(row):\n",
    "    if row.L == 0:\n",
    "        return row.K\n",
    "    return round(row.K/row.L, 2)\n",
    "\n",
    "def pos_hydro_diff(row):\n",
    "    return (row.K-row.L)/(row.K+row.L)\n",
    "\n",
    "\n",
    "def count_k(seq):\n",
    "    k= 0\n",
    "    gens = seq.split('B')[::-1]\n",
    "    for i, gen in enumerate(gens):\n",
    "        j = 0\n",
    "        if i == 0:\n",
    "            j = 1\n",
    "        else:\n",
    "            j = 2**i\n",
    "        k += (gen.count(\"K\"))*j\n",
    "    return k\n",
    "\n",
    "def count_l(seq):\n",
    "    l = 0\n",
    "    gens = seq.split('B')[::-1]\n",
    "    for i, gen in enumerate(gens):\n",
    "        j = 0\n",
    "        if i == 0:\n",
    "            j = 1\n",
    "        else:\n",
    "            j = 2**i\n",
    "        l += (gen.count(\"L\"))*j\n",
    "    return l\n",
    "\n",
    " \n",
    "def mw(smiles):\n",
    "    mol = MolFromSmiles(smiles[0])\n",
    "    mw = Descriptors.ExactMolWt(mol)\n",
    "    return round(mw,2)\n",
    "\n",
    "def isSelected(row):\n",
    "    if row.seq == XG45:\n",
    "        return 6\n",
    "    elif row.seq == T25:\n",
    "        return 5\n",
    "    elif row.seq == G3KL:\n",
    "        return 4\n",
    "    elif row.seq in synth_2021 and row.seq in synth_2018:\n",
    "        return 3\n",
    "    elif row.seq in synth_2021:\n",
    "        return 2\n",
    "    elif row.seq in synth_2018:\n",
    "        return 1\n",
    "    else:\n",
    "        return 0\n",
    "    \n",
    "def issynth_2018(seq):\n",
    "    if seq in synth_2018:\n",
    "        name = synth_2018_39[synth_2018_39[\"seq\"] == seq].name.to_list()[0]\n",
    "        print(name)\n",
    "        return 1\n",
    "    else:\n",
    "        return 0\n",
    "\n",
    "def issynth_2021(seq):\n",
    "    if seq in synth_2021:\n",
    "        return 1\n",
    "    else:\n",
    "        return 0\n",
    "    \n",
    "def calc_size(seq):\n",
    "    if seq == G3KL or seq == T25 or seq ==XG45 :\n",
    "        return 2\n",
    "    elif seq in synth_2021 or seq in synth_2018:\n",
    "        return 1\n",
    "    else:\n",
    "        return 0.5\n",
    "    \n",
    "def make_label(row):\n",
    "    seq_ = row.seq\n",
    "    if seq_ == G3KL:\n",
    "        return f\"G3KL|{seq_}\"\n",
    "    elif seq_ == T25:\n",
    "        return f\"T25|{seq_}\"\n",
    "    elif row.seq in synth_2021:\n",
    "        name = synth_2021_64[synth_2021_64[\"seq\"] == seq_].name.to_list()[0]\n",
    "        return f\"{name}|{seq_}\"\n",
    "    elif row.seq in synth_2018:\n",
    "        name = synth_2018_39[synth_2018_39[\"seq\"] == seq_].name.to_list()[0]\n",
    "        return f\"{name}|{seq_}\"\n",
    "    else:\n",
    "        return seq_\n",
    "    \n",
    "mxfp_query = \"5;5;7;8;9;10;11;13;17;21;27;36;44;52;64;82;100;111;104;92;61;14;0;0;0;0;0;0;0;0;0;7;5;5;4;3;4;8;10;13;16;18;26;34;41;47;62;77;86;82;72;50;12;0;0;0;0;0;0;0;0;0;0;0;0;0;0;0;0;0;0;0;0;0;0;0;0;0;0;0;0;0;0;0;0;0;0;0;0;0;0;0;0;16;0;0;0;0;10;1;3;8;7;12;14;15;18;24;31;37;40;34;27;14;1;0;0;0;0;0;0;0;0;0;13;0;0;8;0;1;9;4;6;9;10;12;17;21;25;31;39;44;44;43;33;10;0;0;0;0;0;0;0;0;0;21;0;0;0;0;1;6;0;0;0;0;2;5;11;11;7;11;23;29;30;46;29;2;0;0;0;0;0;0;0;0;100;0;0;0;0;0;0;0;0;0;0;0;0;0;0;0;0;0;0;0;0;0;0;0;0;0;0;0;0;0;0\"\n",
    "b = np.array(list(map(int, mxfp_query.split(';'))))\n",
    "def calc_CBD(mxfp):\n",
    "    a = np.array(list(map(int, mxfp.split(';'))))\n",
    "    return sum(abs(a-b))"
   ]
  },
  {
   "cell_type": "code",
   "execution_count": 116,
   "metadata": {},
   "outputs": [],
   "source": [
    "df[\"K\"] = df.seq2.map(count_k)\n",
    "df[\"L\"] = df.seq2.map(count_l)\n",
    "\n",
    "df[\"mw\"] = df.SMILES.map(mw)\n",
    "df[\"CBD\"] = df.MXFP.map(calc_CBD)"
   ]
  },
  {
   "cell_type": "code",
   "execution_count": 134,
   "metadata": {},
   "outputs": [],
   "source": [
    "df[\"pos_hydro_ratio\"] = df.apply(pos_hydro_ratio, 1)\n",
    "df[\"pos_hydro_diff\"] = df.apply(pos_hydro_diff, 1)"
   ]
  },
  {
   "cell_type": "code",
   "execution_count": 135,
   "metadata": {},
   "outputs": [],
   "source": [
    "def check(seq):\n",
    "    k= 0\n",
    "    gens = seq.split('B')[::-1]\n",
    "    for i, gen in enumerate(gens):\n",
    "        j = 0\n",
    "        if i == 0:\n",
    "            j = 1\n",
    "        else:\n",
    "            j = 2**i\n",
    "        k += (gen.count(\"K\"))*j\n",
    "\n",
    "    l = 0\n",
    "    gens = seq.split('B')[::-1]\n",
    "    for i, gen in enumerate(gens):\n",
    "        j = 0\n",
    "        if i == 0:\n",
    "            j = 1\n",
    "        else:\n",
    "            j = 2**i\n",
    "        l += (gen.count(\"L\"))*j\n",
    "    \n",
    "    return k, l, k-l, k+l, (k-l)/(k+l)\n",
    "\n",
    "    \n"
   ]
  },
  {
   "cell_type": "code",
   "execution_count": 141,
   "metadata": {},
   "outputs": [
    {
     "data": {
      "text/plain": [
       "(0, 6, -6, 6, -1.0)"
      ]
     },
     "execution_count": 141,
     "metadata": {},
     "output_type": "execute_result"
    }
   ],
   "source": [
    "check(\"LLLLLL\")"
   ]
  },
  {
   "cell_type": "code",
   "execution_count": 137,
   "metadata": {},
   "outputs": [
    {
     "data": {
      "text/plain": [
       "1.0"
      ]
     },
     "execution_count": 137,
     "metadata": {},
     "output_type": "execute_result"
    }
   ],
   "source": [
    "6/6"
   ]
  },
  {
   "cell_type": "code",
   "execution_count": 138,
   "metadata": {},
   "outputs": [
    {
     "data": {
      "text/plain": [
       "50625"
      ]
     },
     "execution_count": 138,
     "metadata": {},
     "output_type": "execute_result"
    }
   ],
   "source": [
    "len(df)"
   ]
  },
  {
   "cell_type": "code",
   "execution_count": 119,
   "metadata": {},
   "outputs": [
    {
     "name": "stdout",
     "output_type": "stream",
     "text": [
      "T10\n",
      "T25\n",
      "T7\n",
      "T21\n",
      "T37\n",
      "T35\n",
      "T39\n",
      "T13\n",
      "T2\n",
      "T38\n",
      "T15\n",
      "T9\n",
      "T27\n",
      "T3\n",
      "T1\n",
      "T19\n",
      "T20\n",
      "T5\n",
      "T32\n",
      "T12\n",
      "T14\n",
      "T23\n",
      "T16\n",
      "T29\n",
      "T6\n",
      "T30\n",
      "T17\n",
      "T31\n",
      "T26\n",
      "T11\n",
      "T36\n",
      "T22\n",
      "T4\n",
      "T18\n",
      "T28\n",
      "T8\n"
     ]
    }
   ],
   "source": [
    "df[\"selected\"] = df.apply(isSelected,1)\n",
    "df[\"synth_2021\"] = df.seq.map(issynth_2021)\n",
    "\n",
    "df[\"synth_2018\"] = df.seq.map(issynth_2018)\n",
    "df[\"size_\"] = df.seq.map(calc_size)"
   ]
  },
  {
   "cell_type": "code",
   "execution_count": 144,
   "metadata": {},
   "outputs": [],
   "source": [
    "df[\"label\"] = df.apply(make_label, 1)"
   ]
  },
  {
   "cell_type": "markdown",
   "metadata": {},
   "source": [
    "t24 t23 (KL)8(KKL)4(KLL)2KKKK  t34 t31 (KL)8(KKL)4(KKLL)2KKKK t33 t30 (KL)8(KKL)4(KKLL)2KKLK"
   ]
  },
  {
   "cell_type": "code",
   "execution_count": 93,
   "metadata": {},
   "outputs": [
    {
     "data": {
      "text/html": [
       "<div>\n",
       "<style scoped>\n",
       "    .dataframe tbody tr th:only-of-type {\n",
       "        vertical-align: middle;\n",
       "    }\n",
       "\n",
       "    .dataframe tbody tr th {\n",
       "        vertical-align: top;\n",
       "    }\n",
       "\n",
       "    .dataframe thead th {\n",
       "        text-align: right;\n",
       "    }\n",
       "</style>\n",
       "<table border=\"1\" class=\"dataframe\">\n",
       "  <thead>\n",
       "    <tr style=\"text-align: right;\">\n",
       "      <th></th>\n",
       "      <th>SMILES</th>\n",
       "      <th>seq</th>\n",
       "      <th>MXFP</th>\n",
       "      <th>prop</th>\n",
       "      <th>seq2</th>\n",
       "      <th>seq3</th>\n",
       "      <th>SMILES_old</th>\n",
       "      <th>in_50k</th>\n",
       "      <th>MAP4</th>\n",
       "      <th>K</th>\n",
       "      <th>L</th>\n",
       "      <th>pos_hydro_ratio</th>\n",
       "      <th>mw</th>\n",
       "      <th>CBD</th>\n",
       "      <th>selected</th>\n",
       "      <th>synth_2021</th>\n",
       "      <th>label</th>\n",
       "      <th>synth_2018</th>\n",
       "      <th>size_</th>\n",
       "    </tr>\n",
       "  </thead>\n",
       "  <tbody>\n",
       "    <tr>\n",
       "      <th>27244</th>\n",
       "      <td>(CC(C)C[C@H](NC(=O)[C@@H](N)CCCCN)C(=O)NCCCC[C...</td>\n",
       "      <td>(KL)8(KKL)4(KKLL)2KKLK</td>\n",
       "      <td>5;5;6;7;9;10;11;13;16;21;27;35;43;51;62;78;94;...</td>\n",
       "      <td>344;200;0;41;63;24;1</td>\n",
       "      <td>KLBKLBKLLBKLK</td>\n",
       "      <td>KL4KL4KLL4KLK</td>\n",
       "      <td>CC(C)CC(NC(=O)C([NH3+])CCCC[NH3+])C(=O)NCCCCC(...</td>\n",
       "      <td>True</td>\n",
       "      <td>[148235, 63398, 99402, 905567, 284, 173590, 49...</td>\n",
       "      <td>16</td>\n",
       "      <td>17</td>\n",
       "      <td>0.94</td>\n",
       "      <td>4886.62</td>\n",
       "      <td>247</td>\n",
       "      <td>1</td>\n",
       "      <td>0</td>\n",
       "      <td>T30|(KL)8(KKL)4(KKLL)2KKLK</td>\n",
       "      <td>1</td>\n",
       "      <td>1.0</td>\n",
       "    </tr>\n",
       "  </tbody>\n",
       "</table>\n",
       "</div>"
      ],
      "text/plain": [
       "                                                  SMILES  \\\n",
       "27244  (CC(C)C[C@H](NC(=O)[C@@H](N)CCCCN)C(=O)NCCCC[C...   \n",
       "\n",
       "                          seq  \\\n",
       "27244  (KL)8(KKL)4(KKLL)2KKLK   \n",
       "\n",
       "                                                    MXFP  \\\n",
       "27244  5;5;6;7;9;10;11;13;16;21;27;35;43;51;62;78;94;...   \n",
       "\n",
       "                       prop           seq2           seq3  \\\n",
       "27244  344;200;0;41;63;24;1  KLBKLBKLLBKLK  KL4KL4KLL4KLK   \n",
       "\n",
       "                                              SMILES_old  in_50k  \\\n",
       "27244  CC(C)CC(NC(=O)C([NH3+])CCCC[NH3+])C(=O)NCCCCC(...    True   \n",
       "\n",
       "                                                    MAP4   K   L  \\\n",
       "27244  [148235, 63398, 99402, 905567, 284, 173590, 49...  16  17   \n",
       "\n",
       "       pos_hydro_ratio       mw  CBD  selected  synth_2021  \\\n",
       "27244             0.94  4886.62  247         1           0   \n",
       "\n",
       "                            label  synth_2018  size_  \n",
       "27244  T30|(KL)8(KKL)4(KKLL)2KKLK           1    1.0  "
      ]
     },
     "execution_count": 93,
     "metadata": {},
     "output_type": "execute_result"
    }
   ],
   "source": [
    "df.query(\"seq=='(KL)8(KKL)4(KKLL)2KKLK'\")"
   ]
  },
  {
   "cell_type": "code",
   "execution_count": 75,
   "metadata": {},
   "outputs": [
    {
     "data": {
      "text/plain": [
       "64"
      ]
     },
     "execution_count": 75,
     "metadata": {},
     "output_type": "execute_result"
    }
   ],
   "source": [
    "len(df.query(\"synth_2021==True\"))"
   ]
  },
  {
   "cell_type": "code",
   "execution_count": 58,
   "metadata": {},
   "outputs": [
    {
     "data": {
      "text/plain": [
       "36"
      ]
     },
     "execution_count": 58,
     "metadata": {},
     "output_type": "execute_result"
    }
   ],
   "source": [
    "len(df.query(\"synth_2018==True\"))"
   ]
  },
  {
   "cell_type": "code",
   "execution_count": 59,
   "metadata": {},
   "outputs": [
    {
     "data": {
      "text/plain": [
       "9"
      ]
     },
     "execution_count": 59,
     "metadata": {},
     "output_type": "execute_result"
    }
   ],
   "source": [
    "len(df.query(\"synth_2021==True and synth_2018==True\"))"
   ]
  },
  {
   "cell_type": "code",
   "execution_count": 153,
   "metadata": {},
   "outputs": [],
   "source": [
    "import scipy.stats as ss\n",
    "mw = df.mw.tolist()\n",
    "cbd = df.CBD.tolist()\n",
    "cbd_r = rankdata(cbd)\n",
    "seq_ = df.seq.tolist()\n",
    "selected_ = df.selected.tolist()\n",
    "p_h_ratio =  df.pos_hydro_ratio.tolist()\n",
    "p_h_diff =  df.pos_hydro_diff.tolist()\n",
    "size_list = df.size_.tolist()\n",
    "p_h_ratio_rank = ss.rankdata(p_h_ratio)\n",
    "p_h_diff_rank = ss.rankdata(p_h_diff)\n",
    "custom_cmap = ListedColormap(['#949494', '#0173b2', '#ece133', '#029e73', '#d55e00', '#cc78bc', '#ca9161', '#fbafe4'], name=\"custom\")\n",
    "\n",
    "groups = [\"0 \", \"1 - Synthesized 2018\", \"2 - Synthesized 2021\", \"3 - Synthesized 2018 and 2021\", \"4 - G3KL\", \"5 - T25\", \"6 - XG45\"]\n",
    "labels_groups, groups = Faerun.create_categories(groups)"
   ]
  },
  {
   "cell_type": "code",
   "execution_count": 150,
   "metadata": {},
   "outputs": [],
   "source": [
    "labels =  df.label.tolist()"
   ]
  },
  {
   "cell_type": "code",
   "execution_count": 151,
   "metadata": {},
   "outputs": [
    {
     "data": {
      "text/plain": [
       "27"
      ]
     },
     "execution_count": 151,
     "metadata": {},
     "output_type": "execute_result"
    }
   ],
   "source": [
    "len(df.query(\"selected==1\"))"
   ]
  },
  {
   "cell_type": "markdown",
   "metadata": {},
   "source": [
    "faerun = Faerun(view=\"front\", coords=False, title='MXFP_T25analogs')#, clear_color=\"#ffffff\",)\n",
    "faerun.add_scatter(\"T25analogs\",{\"x\": tm.VectorFloat(tm_layout_el[\"x\"]), \"y\": tm.VectorFloat(tm_layout_el[\"y\"]),\\\n",
    "                                \"c\": [HAC, cbd_r, selected, p_h_ratio],\\\n",
    "                          \"labels\": seq}, has_legend=True, \\\n",
    "    colormap=[\"rainbow\", \"rainbow_r\", custom_cmap, \"rainbow\"], \\\n",
    "        point_scale=0.05, categorical=[False, False, True, False],\\\n",
    "        series_title=[\"HAC\", \"CBD (rank)\", \"selection\", \"positive/hydrophobic residues ratio\"], \\\n",
    "            max_legend_label=[str(max(HAC)),str(max(cbd)), None, str(max(p_h_ratio))],\\\n",
    "                   min_legend_label=[str(min(HAC)), str(min(cbd)), None, str(min(p_h_ratio))],\\\n",
    "                    legend_labels=[None, None, labels_groups, None])\n",
    "\n",
    "\n",
    "faerun.add_tree(\"T25analogs_tree\", {\"from\": tm.VectorUint(tm_layout_el[\"s\"]), \"to\": tm.VectorUint(tm_layout_el[\"t\"])}, point_helper=\"T25analogs\", color=\"aaaaaa\")\n",
    "faerun.plot('MXFP_T25analogs')"
   ]
  },
  {
   "cell_type": "code",
   "execution_count": 155,
   "metadata": {},
   "outputs": [
    {
     "data": {
      "text/html": [
       "\n",
       "        <iframe\n",
       "            width=\"100%\"\n",
       "            height=\"500\"\n",
       "            src=\"./MAP_T25analogs.html\"\n",
       "            frameborder=\"0\"\n",
       "            allowfullscreen\n",
       "        ></iframe>\n",
       "        "
      ],
      "text/plain": [
       "<IPython.lib.display.IFrame at 0x7ff3f8a1bac8>"
      ]
     },
     "metadata": {},
     "output_type": "display_data"
    },
    {
     "data": {
      "text/html": [
       "<a href='./MAP_T25analogs.html' target='_blank'>./MAP_T25analogs.html</a><br>"
      ],
      "text/plain": [
       "/home/alice/Code/T25_analogs/MAP_T25analogs.html"
      ]
     },
     "metadata": {},
     "output_type": "display_data"
    }
   ],
   "source": [
    "faerun = Faerun(view=\"front\", coords=False, title='MAP_T25analogs')#, clear_color=\"#ffffff\",)\n",
    "faerun.add_scatter(\"T25analogs\",{\"x\": tm.VectorFloat(tm_layout[\"x\"]), \"y\": tm.VectorFloat(tm_layout[\"y\"]),\\\n",
    "                                \"c\": [mw, cbd_r, selected_, p_h_diff], \"s\": size_list,\\\n",
    "                          \"labels\": labels}, has_legend=True, \\\n",
    "    colormap=[\"viridis\", \"viridis_r\", custom_cmap, \"viridis\"], \\\n",
    "        point_scale=3, categorical=[False, False, True, False],\\\n",
    "        series_title=[\"MW\", \"MXFP CBD from T25 (rank)\", \"selection\", \"(positive residues-hydrophobic residues)/all non-braching residues\"], \\\n",
    "            max_legend_label=[str(max(mw)), str(max(cbd)), None, str(max(p_h_diff))],\\\n",
    "                   min_legend_label=[str(min(mw)),str(min(cbd)), None, str(min(p_h_diff))],\\\n",
    "                    legend_labels=[None, None, labels_groups, None])\n",
    "\n",
    "\n",
    "faerun.add_tree(\"T25analogs_tree\", {\"from\": tm.VectorUint(tm_layout[\"s\"]), \"to\": tm.VectorUint(tm_layout[\"t\"])}, point_helper=\"T25analogs\", color=\"aaaaaa\")\n",
    "faerun.plot('MAP_T25analogs')"
   ]
  },
  {
   "cell_type": "code",
   "execution_count": 83,
   "metadata": {},
   "outputs": [
    {
     "data": {
      "image/png": "[encoded data removed]",
      "text/plain": [
       "<Figure size 432x288 with 1 Axes>"
      ]
     },
     "metadata": {
      "needs_background": "light"
     },
     "output_type": "display_data"
    }
   ],
   "source": [
    "import matplotlib.pyplot as plt\n",
    "\n",
    "\n",
    "ax1 = df.plot(kind='scatter', x='K', y='L', color='lightgray', s=1)    \n",
    "ax2 = df.query(\"selected==1\").plot(kind='scatter', x='K', y='L', color='blue', ax=ax1, s=5)    \n",
    "ax3 = df.query(\"selected==2\").plot(kind='scatter', x='K', y='L', color='lime', ax=ax1, s=5) \n",
    "ax4 = df.query(\"selected==3\").plot(kind='scatter', x='K', y='L', color='cyan', ax=ax1, s=5) \n",
    "ax5 = df.query(\"selected==4\").plot(kind='scatter', x='K', y='L', color='magenta', ax=ax1, s=5)    \n",
    "ax6 = df.query(\"selected==5\").plot(kind='scatter', x='K', y='L', color='yellow', ax=ax1, s=5) \n",
    "ax6 = df.query(\"selected==6\").plot(kind='scatter', x='K', y='L', color='tomato', ax=ax1, s=5) \n",
    "\n",
    "plt.savefig(\"KL.svg\")\n",
    "\n",
    "\n"
   ]
  },
  {
   "cell_type": "code",
   "execution_count": 65,
   "metadata": {},
   "outputs": [
    {
     "ename": "TypeError",
     "evalue": "No registered converter was able to produce a C++ rvalue of type std::__cxx11::basic_string<wchar_t, std::char_traits<wchar_t>, std::allocator<wchar_t> > from this Python object of type tuple",
     "output_type": "error",
     "traceback": [
      "\u001b[0;31m---------------------------------------------------------------------------\u001b[0m",
      "\u001b[0;31mTypeError\u001b[0m                                 Traceback (most recent call last)",
      "\u001b[0;32m<ipython-input-65-ca8ff2890bad>\u001b[0m in \u001b[0;36m<module>\u001b[0;34m\u001b[0m\n\u001b[1;32m      1\u001b[0m \u001b[0msmiles\u001b[0m \u001b[0;34m=\u001b[0m \u001b[0mdf\u001b[0m\u001b[0;34m.\u001b[0m\u001b[0mquery\u001b[0m\u001b[0;34m(\u001b[0m\u001b[0;34m\"seq=='(KKK)8(KKKK)4(KKKK)2KKKK'\"\u001b[0m\u001b[0;34m)\u001b[0m\u001b[0;34m.\u001b[0m\u001b[0mSMILES\u001b[0m\u001b[0;34m.\u001b[0m\u001b[0mto_list\u001b[0m\u001b[0;34m(\u001b[0m\u001b[0;34m)\u001b[0m\u001b[0;34m[\u001b[0m\u001b[0;36m0\u001b[0m\u001b[0;34m]\u001b[0m\u001b[0;34m\u001b[0m\u001b[0;34m\u001b[0m\u001b[0m\n\u001b[0;32m----> 2\u001b[0;31m \u001b[0mmol\u001b[0m \u001b[0;34m=\u001b[0m \u001b[0mMolFromSmiles\u001b[0m\u001b[0;34m(\u001b[0m\u001b[0msmiles\u001b[0m\u001b[0;34m)\u001b[0m\u001b[0;34m\u001b[0m\u001b[0;34m\u001b[0m\u001b[0m\n\u001b[0m\u001b[1;32m      3\u001b[0m \u001b[0mmw\u001b[0m \u001b[0;34m=\u001b[0m \u001b[0mDescriptors\u001b[0m\u001b[0;34m.\u001b[0m\u001b[0mExactMolWt\u001b[0m\u001b[0;34m(\u001b[0m\u001b[0mmol\u001b[0m\u001b[0;34m)\u001b[0m\u001b[0;34m\u001b[0m\u001b[0;34m\u001b[0m\u001b[0m\n\u001b[1;32m      4\u001b[0m \u001b[0mmw\u001b[0m\u001b[0;34m\u001b[0m\u001b[0;34m\u001b[0m\u001b[0m\n",
      "\u001b[0;31mTypeError\u001b[0m: No registered converter was able to produce a C++ rvalue of type std::__cxx11::basic_string<wchar_t, std::char_traits<wchar_t>, std::allocator<wchar_t> > from this Python object of type tuple"
     ]
    }
   ],
   "source": [
    "smiles = df.query(\"seq=='(KKK)8(KKKK)4(KKKK)2KKKK'\").SMILES.to_list()[0]\n",
    "mol = MolFromSmiles(smiles)\n",
    "mw = Descriptors.ExactMolWt(mol)\n",
    "mw"
   ]
  },
  {
   "cell_type": "code",
   "execution_count": null,
   "metadata": {},
   "outputs": [],
   "source": [
    "smiles = df.query(\"seq=='(KKK)8(KKKK)4(KKKK)2K'\").SMILES.to_list()[0]\n",
    "mol = MolFromSmiles(smiles)\n",
    "mw = Descriptors.ExactMolWt(mol)\n",
    "mw\n"
   ]
  },
  {
   "cell_type": "code",
   "execution_count": null,
   "metadata": {},
   "outputs": [],
   "source": [
    "smiles"
   ]
  },
  {
   "cell_type": "code",
   "execution_count": null,
   "metadata": {},
   "outputs": [],
   "source": [
    "df.query(\"seq=='(KKK)8(KKKK)4(KKKK)2K'\").seq2.to_list()[0]"
   ]
  },
  {
   "cell_type": "code",
   "execution_count": null,
   "metadata": {},
   "outputs": [],
   "source": []
  },
  {
   "cell_type": "code",
   "execution_count": null,
   "metadata": {},
   "outputs": [],
   "source": []
  }
 ],
 "metadata": {
  "kernelspec": {
   "display_name": "Python 3",
   "language": "python",
   "name": "python3"
  },
  "language_info": {
   "codemirror_mode": {
    "name": "ipython",
    "version": 3
   },
   "file_extension": ".py",
   "mimetype": "text/x-python",
   "name": "python",
   "nbconvert_exporter": "python",
   "pygments_lexer": "ipython3",
   "version": "3.6.10"
  }
 },
 "nbformat": 4,
 "nbformat_minor": 4
}
