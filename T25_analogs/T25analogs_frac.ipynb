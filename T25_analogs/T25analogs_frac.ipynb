{
 "cells": [
  {
   "cell_type": "code",
   "execution_count": 28,
   "metadata": {},
   "outputs": [],
   "source": [
    "import pandas as pd\n",
    "import os\n",
    "import numpy as np\n",
    "from tqdm.notebook import tqdm\n",
    "import joblib\n",
    "from sklearn.neighbors import NearestNeighbors\n",
    "import tmap as tm\n",
    "from scipy.stats import rankdata\n",
    "from matplotlib.colors import ListedColormap\n",
    "from faerun import Faerun"
   ]
  },
  {
   "cell_type": "code",
   "execution_count": 2,
   "metadata": {},
   "outputs": [],
   "source": [
    "elements = [\"K\",\"L\",\"\"]\n",
    "branching_elements = [\"B\"]\n",
    "enumeration = {}\n",
    "enumeration[1] = [e for e in elements]\n",
    "\n",
    "for i in range (2,16):\n",
    "    if i % 4 == 0:\n",
    "        elements_to_append = branching_elements\n",
    "    else:\n",
    "        elements_to_append = elements\n",
    "    enumeration[i] = set()\n",
    "    for e in elements_to_append:\n",
    "        for previous_enumeration in enumeration[i-1]:\n",
    "            enumeration[i].add( previous_enumeration + e )\n"
   ]
  },
  {
   "cell_type": "code",
   "execution_count": 3,
   "metadata": {},
   "outputs": [
    {
     "data": {
      "text/plain": [
       "50625"
      ]
     },
     "execution_count": 3,
     "metadata": {},
     "output_type": "execute_result"
    }
   ],
   "source": [
    "len(enumeration[15])"
   ]
  },
  {
   "cell_type": "code",
   "execution_count": 4,
   "metadata": {},
   "outputs": [],
   "source": [
    "KL_enum = enumeration[15]"
   ]
  },
  {
   "cell_type": "code",
   "execution_count": 5,
   "metadata": {},
   "outputs": [],
   "source": [
    "lib = pd.read_csv(\"/data/Peptides/dendrimers/T25_analogs/database/52k.mxfp\", sep=\" \", header=None)"
   ]
  },
  {
   "cell_type": "code",
   "execution_count": 6,
   "metadata": {},
   "outputs": [],
   "source": [
    "lib.columns=[\"SMILES\",\"seq\", \"MXFP\", \"unknown\"]"
   ]
  },
  {
   "cell_type": "code",
   "execution_count": 7,
   "metadata": {},
   "outputs": [],
   "source": [
    "lib[\"seq2\"] = lib.seq.map(lambda x: x.replace(\"(\", \"\").replace(\")\",\"\").replace(\"8K\",\"B\").replace(\"4K\",\"B\").replace(\"2K\",\"B\"))"
   ]
  },
  {
   "cell_type": "code",
   "execution_count": 8,
   "metadata": {},
   "outputs": [],
   "source": [
    "def is_in_KL_enum(seq):\n",
    "    if seq[0] == \"K\" and \"B\"+seq[1:] in KL_enum:\n",
    "        return True\n",
    "    elif seq in KL_enum:\n",
    "        return True\n",
    "    else:\n",
    "        return False"
   ]
  },
  {
   "cell_type": "code",
   "execution_count": 9,
   "metadata": {},
   "outputs": [],
   "source": [
    "lib[\"in_50k\"] = lib.seq2.map(is_in_KL_enum)"
   ]
  },
  {
   "cell_type": "code",
   "execution_count": 10,
   "metadata": {},
   "outputs": [
    {
     "data": {
      "text/html": [
       "<div>\n",
       "<style scoped>\n",
       "    .dataframe tbody tr th:only-of-type {\n",
       "        vertical-align: middle;\n",
       "    }\n",
       "\n",
       "    .dataframe tbody tr th {\n",
       "        vertical-align: top;\n",
       "    }\n",
       "\n",
       "    .dataframe thead th {\n",
       "        text-align: right;\n",
       "    }\n",
       "</style>\n",
       "<table border=\"1\" class=\"dataframe\">\n",
       "  <thead>\n",
       "    <tr style=\"text-align: right;\">\n",
       "      <th></th>\n",
       "      <th>SMILES</th>\n",
       "      <th>seq</th>\n",
       "      <th>MXFP</th>\n",
       "      <th>unknown</th>\n",
       "      <th>seq2</th>\n",
       "      <th>in_50k</th>\n",
       "    </tr>\n",
       "  </thead>\n",
       "  <tbody>\n",
       "    <tr>\n",
       "      <th>0</th>\n",
       "      <td>CC(C)CC(NC(=O)C(CC(C)C)NC(=O)C(CC(C)C)NC(=O)C(...</td>\n",
       "      <td>(KLL)8(KLLL)4(KLLL)2KLLL</td>\n",
       "      <td>4;4;6;7;8;9;10;12;15;18;23;30;39;47;55;67;86;1...</td>\n",
       "      <td>432;260;0;53;67;16;1</td>\n",
       "      <td>KLLBLLLBLLLBLLL</td>\n",
       "      <td>True</td>\n",
       "    </tr>\n",
       "    <tr>\n",
       "      <th>1</th>\n",
       "      <td>CC(C)CC(NC(=O)C(CC(C)C)NC(=O)C(CC(C)C)NC(=O)C(...</td>\n",
       "      <td>(KKL)8(KLLL)4(KLLL)2KLLL</td>\n",
       "      <td>4;4;6;7;8;9;10;12;15;18;23;29;38;47;55;67;85;1...</td>\n",
       "      <td>440;260;0;53;75;24;1</td>\n",
       "      <td>KKLBLLLBLLLBLLL</td>\n",
       "      <td>True</td>\n",
       "    </tr>\n",
       "    <tr>\n",
       "      <th>2</th>\n",
       "      <td>CC(C)CC(NC(=O)C(CC(C)C)NC(=O)C(CCCCNC(=O)C(CC(...</td>\n",
       "      <td>(KLL)8(KLLL)4(KLLL)2KLL</td>\n",
       "      <td>4;4;6;7;8;9;10;12;15;18;23;30;39;47;55;66;84;1...</td>\n",
       "      <td>424;255;0;52;66;16;1</td>\n",
       "      <td>KLLBLLLBLLLBLL</td>\n",
       "      <td>True</td>\n",
       "    </tr>\n",
       "    <tr>\n",
       "      <th>3</th>\n",
       "      <td>CC(C)CC(NC(=O)C(CC(C)C)NC(=O)C(CC(C)C)NC(=O)C(...</td>\n",
       "      <td>(KLL)8(KLLL)4(KLL)2KLLL</td>\n",
       "      <td>4;4;6;7;8;10;10;12;15;18;23;30;39;48;57;70;90;...</td>\n",
       "      <td>416;250;0;51;65;16;1</td>\n",
       "      <td>KLLBLLLBLLBLLL</td>\n",
       "      <td>True</td>\n",
       "    </tr>\n",
       "    <tr>\n",
       "      <th>4</th>\n",
       "      <td>CC(C)CC(NC(=O)C(CC(C)C)NC(=O)C(CC(C)C)NC(=O)C(...</td>\n",
       "      <td>(KLL)8(KLL)4(KLLL)2KLLL</td>\n",
       "      <td>5;4;6;7;8;10;10;12;15;19;24;31;40;50;60;74;92;...</td>\n",
       "      <td>400;240;0;49;63;16;1</td>\n",
       "      <td>KLLBLLBLLLBLLL</td>\n",
       "      <td>True</td>\n",
       "    </tr>\n",
       "    <tr>\n",
       "      <th>...</th>\n",
       "      <td>...</td>\n",
       "      <td>...</td>\n",
       "      <td>...</td>\n",
       "      <td>...</td>\n",
       "      <td>...</td>\n",
       "      <td>...</td>\n",
       "    </tr>\n",
       "    <tr>\n",
       "      <th>52520</th>\n",
       "      <td>[NH3+]CCCCC([NH3+])C(=O)NC(CCCC[NH3+])C(=O)NC(...</td>\n",
       "      <td>(KKK)4(KKKK)2K</td>\n",
       "      <td>6;6;8;9;10;12;14;16;21;26;31;37;46;58;67;67;65...</td>\n",
       "      <td>226;125;0;26;50;26;1</td>\n",
       "      <td>KKKBKKKB</td>\n",
       "      <td>True</td>\n",
       "    </tr>\n",
       "    <tr>\n",
       "      <th>52525</th>\n",
       "      <td>[NH3+]CCCCC([NH3+])C(=O)NC(CCCC[NH3+])C(=O)NC(...</td>\n",
       "      <td>(KKKK)4(K)2K</td>\n",
       "      <td>6;6;8;9;11;12;14;17;21;26;31;36;43;53;70;89;10...</td>\n",
       "      <td>208;115;0;24;46;24;1</td>\n",
       "      <td>KKKKBB</td>\n",
       "      <td>True</td>\n",
       "    </tr>\n",
       "    <tr>\n",
       "      <th>52526</th>\n",
       "      <td>[NH3+]CCCCC([NH3+])C(=O)NC(CCCC[NH3+])C(=O)NC(...</td>\n",
       "      <td>(KKKK)4(KK)2K</td>\n",
       "      <td>6;6;8;9;10;12;14;16;21;26;31;37;44;53;66;79;88...</td>\n",
       "      <td>226;125;0;26;50;26;1</td>\n",
       "      <td>KKKKBKB</td>\n",
       "      <td>True</td>\n",
       "    </tr>\n",
       "    <tr>\n",
       "      <th>52527</th>\n",
       "      <td>[NH3+]CCCCC([NH3+])C(=O)NC(CCCC[NH3+])C(=O)NC(...</td>\n",
       "      <td>(KKKK)4(KKK)2K</td>\n",
       "      <td>6;6;7;9;10;12;13;16;20;25;30;36;44;54;65;74;78...</td>\n",
       "      <td>244;135;0;28;54;28;1</td>\n",
       "      <td>KKKKBKKB</td>\n",
       "      <td>True</td>\n",
       "    </tr>\n",
       "    <tr>\n",
       "      <th>52528</th>\n",
       "      <td>[NH3+]CCCCC([NH3+])C(=O)NC(CCCC[NH3+])C(=O)NC(...</td>\n",
       "      <td>(KKKK)4(KKKK)2K</td>\n",
       "      <td>6;6;7;8;10;11;13;16;20;24;30;36;43;54;65;73;74...</td>\n",
       "      <td>262;145;0;30;58;30;1</td>\n",
       "      <td>KKKKBKKKB</td>\n",
       "      <td>True</td>\n",
       "    </tr>\n",
       "  </tbody>\n",
       "</table>\n",
       "<p>50625 rows × 6 columns</p>\n",
       "</div>"
      ],
      "text/plain": [
       "                                                  SMILES  \\\n",
       "0      CC(C)CC(NC(=O)C(CC(C)C)NC(=O)C(CC(C)C)NC(=O)C(...   \n",
       "1      CC(C)CC(NC(=O)C(CC(C)C)NC(=O)C(CC(C)C)NC(=O)C(...   \n",
       "2      CC(C)CC(NC(=O)C(CC(C)C)NC(=O)C(CCCCNC(=O)C(CC(...   \n",
       "3      CC(C)CC(NC(=O)C(CC(C)C)NC(=O)C(CC(C)C)NC(=O)C(...   \n",
       "4      CC(C)CC(NC(=O)C(CC(C)C)NC(=O)C(CC(C)C)NC(=O)C(...   \n",
       "...                                                  ...   \n",
       "52520  [NH3+]CCCCC([NH3+])C(=O)NC(CCCC[NH3+])C(=O)NC(...   \n",
       "52525  [NH3+]CCCCC([NH3+])C(=O)NC(CCCC[NH3+])C(=O)NC(...   \n",
       "52526  [NH3+]CCCCC([NH3+])C(=O)NC(CCCC[NH3+])C(=O)NC(...   \n",
       "52527  [NH3+]CCCCC([NH3+])C(=O)NC(CCCC[NH3+])C(=O)NC(...   \n",
       "52528  [NH3+]CCCCC([NH3+])C(=O)NC(CCCC[NH3+])C(=O)NC(...   \n",
       "\n",
       "                            seq  \\\n",
       "0      (KLL)8(KLLL)4(KLLL)2KLLL   \n",
       "1      (KKL)8(KLLL)4(KLLL)2KLLL   \n",
       "2       (KLL)8(KLLL)4(KLLL)2KLL   \n",
       "3       (KLL)8(KLLL)4(KLL)2KLLL   \n",
       "4       (KLL)8(KLL)4(KLLL)2KLLL   \n",
       "...                         ...   \n",
       "52520            (KKK)4(KKKK)2K   \n",
       "52525              (KKKK)4(K)2K   \n",
       "52526             (KKKK)4(KK)2K   \n",
       "52527            (KKKK)4(KKK)2K   \n",
       "52528           (KKKK)4(KKKK)2K   \n",
       "\n",
       "                                                    MXFP  \\\n",
       "0      4;4;6;7;8;9;10;12;15;18;23;30;39;47;55;67;86;1...   \n",
       "1      4;4;6;7;8;9;10;12;15;18;23;29;38;47;55;67;85;1...   \n",
       "2      4;4;6;7;8;9;10;12;15;18;23;30;39;47;55;66;84;1...   \n",
       "3      4;4;6;7;8;10;10;12;15;18;23;30;39;48;57;70;90;...   \n",
       "4      5;4;6;7;8;10;10;12;15;19;24;31;40;50;60;74;92;...   \n",
       "...                                                  ...   \n",
       "52520  6;6;8;9;10;12;14;16;21;26;31;37;46;58;67;67;65...   \n",
       "52525  6;6;8;9;11;12;14;17;21;26;31;36;43;53;70;89;10...   \n",
       "52526  6;6;8;9;10;12;14;16;21;26;31;37;44;53;66;79;88...   \n",
       "52527  6;6;7;9;10;12;13;16;20;25;30;36;44;54;65;74;78...   \n",
       "52528  6;6;7;8;10;11;13;16;20;24;30;36;43;54;65;73;74...   \n",
       "\n",
       "                    unknown             seq2  in_50k  \n",
       "0      432;260;0;53;67;16;1  KLLBLLLBLLLBLLL    True  \n",
       "1      440;260;0;53;75;24;1  KKLBLLLBLLLBLLL    True  \n",
       "2      424;255;0;52;66;16;1   KLLBLLLBLLLBLL    True  \n",
       "3      416;250;0;51;65;16;1   KLLBLLLBLLBLLL    True  \n",
       "4      400;240;0;49;63;16;1   KLLBLLBLLLBLLL    True  \n",
       "...                     ...              ...     ...  \n",
       "52520  226;125;0;26;50;26;1         KKKBKKKB    True  \n",
       "52525  208;115;0;24;46;24;1           KKKKBB    True  \n",
       "52526  226;125;0;26;50;26;1          KKKKBKB    True  \n",
       "52527  244;135;0;28;54;28;1         KKKKBKKB    True  \n",
       "52528  262;145;0;30;58;30;1        KKKKBKKKB    True  \n",
       "\n",
       "[50625 rows x 6 columns]"
      ]
     },
     "execution_count": 10,
     "metadata": {},
     "output_type": "execute_result"
    }
   ],
   "source": [
    "lib.query(\"in_50k == True\")"
   ]
  },
  {
   "cell_type": "code",
   "execution_count": 12,
   "metadata": {},
   "outputs": [],
   "source": [
    "df = lib.query(\"in_50k == True\").sample(frac=0.1).copy()"
   ]
  },
  {
   "cell_type": "code",
   "execution_count": 13,
   "metadata": {},
   "outputs": [
    {
     "data": {
      "application/vnd.jupyter.widget-view+json": {
       "model_id": "e761394a8ed84b1b88f23c33028a795e",
       "version_major": 2,
       "version_minor": 0
      },
      "text/plain": [
       "HBox(children=(FloatProgress(value=0.0, max=5062.0), HTML(value='')))"
      ]
     },
     "metadata": {},
     "output_type": "display_data"
    },
    {
     "name": "stdout",
     "output_type": "stream",
     "text": [
      "\n"
     ]
    }
   ],
   "source": [
    "mxfps_ = df[\"MXFP\"].tolist()\n",
    "mxfps = []\n",
    "\n",
    "for mxfp_ in mxfps_:\n",
    "    mxfp = np.array(list(map(int, mxfp_.split(';'))))\n",
    "    mxfps.append(mxfp)    \n",
    "\n",
    "knn = 60\n",
    "\n",
    "knn_search = NearestNeighbors(n_neighbors=knn, radius=1.0, algorithm='auto', leaf_size=30, metric='manhattan', p=2, metric_params=None, n_jobs=None)\n",
    "knn_search.fit(np.array(mxfps))\n",
    "\n",
    "edge_list = []\n",
    "\n",
    "for i in tqdm(range(len(mxfps))):\n",
    "    dists, idxs = knn_search.kneighbors(mxfps[i].reshape(1,-1))\n",
    "    for j in range(knn):\n",
    "        edge_list.append([i, idxs[0,j], dists[0,j]])"
   ]
  },
  {
   "cell_type": "code",
   "execution_count": 15,
   "metadata": {},
   "outputs": [],
   "source": [
    "if not os.path.exists(\"/data/Peptides/dendrimers/T25_analogs/database/tm_layout_mxfp_fract.pkl\"):\n",
    "    # Compute the layout\n",
    "    x_, y_, s, t, gp = tm.layout_from_edge_list(len(edge_list), edge_list)\n",
    "    tm_layout_el = {\"x\": list(x_), \"y\": list(y_), \"s\" : list(s), \"t\" : list(t)}\n",
    "    joblib.dump(tm_layout_el, \"/data/Peptides/dendrimers/T25_analogs/database/tm_layout_mxfp_fract.pkl\")\n",
    "else:\n",
    "    tm_layout_el = joblib.load(\"/data/Peptides/dendrimers/T25_analogs/database/tm_layout_mxfp_fract.pkl\")"
   ]
  },
  {
   "cell_type": "code",
   "execution_count": 19,
   "metadata": {},
   "outputs": [],
   "source": [
    "relevant_2021 = pd.read_csv(\"/data/Peptides/dendrimers/T25_analogs/all.smi\", sep=\" \", header=None)\n",
    "relevant_2021.columns=[\"SMILES\", \"seq\"]\n",
    "relevant = relevant_2021.seq.to_list()\n",
    "relevant_2018 = pd.read_csv(\"/data/Peptides/dendrimers/G3KL-GAanalogs/actives-from-papers\", sep=\" \", header=None)\n",
    "relevant_2018.columns=[\"name\", \"seq\"]\n",
    "relevant_old = relevant_2018.seq.to_list()"
   ]
  },
  {
   "cell_type": "code",
   "execution_count": 44,
   "metadata": {},
   "outputs": [],
   "source": [
    "import re\n",
    "def positive(seq):\n",
    "    pos = 0\n",
    "    gens = re.split('1|2|3|4', seq)[::-1]\n",
    "    for i, gen in enumerate(gens):\n",
    "        j = 0\n",
    "        if i == 0:\n",
    "            j = 1\n",
    "        else:\n",
    "            j = 2**i\n",
    "        pos += (gen.count(\"K\") + gen.count(\"R\"))*j\n",
    "    return pos\n",
    "\n",
    "def hydrophobic(seq):\n",
    "    return seq.count(\"A\") + seq.count(\"V\") + seq.count(\"L\") + seq.count(\"I\") + seq.count(\"F\") + seq.count(\"M\") + seq.count(\"W\") + seq.count(\"C\") \n",
    "\n",
    "def pos_hydro_ratio(row):\n",
    "    if row.hydrophobic == 0:\n",
    "        return row.positive\n",
    "    return round(row.positive/row.hydrophobic, 2)\n",
    "\n",
    "def negative(seq):\n",
    "    return seq.count(\"E\") + seq.count(\"D\")\n",
    "\n",
    "def glu_first(seq):\n",
    "    first = re.split('1|2|3|4', seq)[-2]\n",
    "    return first.count(\"E\")\n",
    "\n",
    "def glu_core(seq):\n",
    "    core = re.split('1|2|3|4', seq)[-1]\n",
    "    return core.count(\"E\")\n",
    "\n",
    "def glu(row):\n",
    "    if row.glu_core == 1:\n",
    "        return 1\n",
    "    elif row.glu_first == 1:\n",
    "        return 2\n",
    "    else:\n",
    "        return 0\n",
    "\n",
    "\n",
    "def generations(seq):\n",
    "    seq = seq[1:]\n",
    "    if seq.count(\"1\") + seq.count(\"2\") + seq.count(\"3\") + seq.count(\"4\") == 2:\n",
    "        return 0\n",
    "    else:\n",
    "        return 1\n",
    "    \n",
    "def HAC(prop):\n",
    "    return int(prop.split(\";\")[0])\n",
    "\n",
    "def isSelected(row):\n",
    "    if row.seq in relevant:\n",
    "        return 2\n",
    "    elif row.seq2.replace(\"B\",\"4\") in relevant_old:\n",
    "        return 1\n",
    "    else:\n",
    "        return 0\n",
    "\n",
    "mxfp_query = \"5;5;7;8;9;10;11;13;17;21;27;36;44;52;64;82;100;111;104;92;61;14;0;0;0;0;0;0;0;0;0;7;5;5;4;3;4;8;10;13;16;18;26;34;41;47;62;77;86;82;72;50;12;0;0;0;0;0;0;0;0;0;0;0;0;0;0;0;0;0;0;0;0;0;0;0;0;0;0;0;0;0;0;0;0;0;0;0;0;0;0;0;0;16;0;0;0;0;10;1;3;8;7;12;14;15;18;24;31;37;40;34;27;14;1;0;0;0;0;0;0;0;0;0;13;0;0;8;0;1;9;4;6;9;10;12;17;21;25;31;39;44;44;43;33;10;0;0;0;0;0;0;0;0;0;21;0;0;0;0;1;6;0;0;0;0;2;5;11;11;7;11;23;29;30;46;29;2;0;0;0;0;0;0;0;0;100;0;0;0;0;0;0;0;0;0;0;0;0;0;0;0;0;0;0;0;0;0;0;0;0;0;0;0;0;0;0\"\n",
    "b = np.array(list(map(int, mxfp_query.split(';'))))\n",
    "def calc_CBD(mxfp):\n",
    "    a = np.array(list(map(int, mxfp.split(';'))))\n",
    "    return sum(abs(a-b))"
   ]
  },
  {
   "cell_type": "code",
   "execution_count": 45,
   "metadata": {},
   "outputs": [],
   "source": [
    "df[\"positive\"] = df.seq.map(positive)\n",
    "df[\"negative\"] = df.seq.map(negative)\n",
    "df[\"glu_core\"] = df.seq.map(glu_core)\n",
    "df[\"glu_first\"] = df.seq.map(glu_first)\n",
    "df[\"hydrophobic\"] = df.seq.map(hydrophobic)\n",
    "df[\"pos_hydro_ratio\"] = df.apply(pos_hydro_ratio, 1)\n",
    "df[\"generations\"] =  df.seq.map(generations)\n",
    "df[\"hac\"] = df.unknown.map(HAC)\n",
    "df[\"selected\"] = df.apply(isSelected,1)\n",
    "df[\"CBD\"] = df.MXFP.map(calc_CBD)"
   ]
  },
  {
   "cell_type": "code",
   "execution_count": 46,
   "metadata": {},
   "outputs": [],
   "source": [
    "HAC = df.hac.tolist()\n",
    "cbd = df.CBD.tolist()\n",
    "cbd_r = rankdata(cbd)\n",
    "seq = df.seq.tolist()\n",
    "SMILES = df.SMILES.tolist()\n",
    "selected = df.selected.tolist()\n",
    "p_h_ratio =  df.pos_hydro_ratio.tolist()\n",
    "\n",
    "\n",
    "custom_cmap = ListedColormap(['lightgray', 'magenta', \"lime\"], name=\"custom\")\n",
    "\n",
    "groups = [\"0 - No\", \"1 - 2018\", \"2 - 2021\"]\n",
    "labels_groups, groups = Faerun.create_categories(groups)"
   ]
  },
  {
   "cell_type": "code",
   "execution_count": 47,
   "metadata": {},
   "outputs": [
    {
     "data": {
      "text/html": [
       "\n",
       "        <iframe\n",
       "            width=\"100%\"\n",
       "            height=\"500\"\n",
       "            src=\"./MXFP_T25analogs_fract.html\"\n",
       "            frameborder=\"0\"\n",
       "            allowfullscreen\n",
       "        ></iframe>\n",
       "        "
      ],
      "text/plain": [
       "<IPython.lib.display.IFrame at 0x7f1616e4d470>"
      ]
     },
     "metadata": {},
     "output_type": "display_data"
    },
    {
     "data": {
      "text/html": [
       "<a href='./MXFP_T25analogs_fract.html' target='_blank'>./MXFP_T25analogs_fract.html</a><br>"
      ],
      "text/plain": [
       "/home/alice/Code/KL_library_enumeration/MXFP_T25analogs_fract.html"
      ]
     },
     "metadata": {},
     "output_type": "display_data"
    }
   ],
   "source": [
    "faerun = Faerun(view=\"front\", coords=False, title='MXFP_T25analogs_fract')#, clear_color=\"#ffffff\",)\n",
    "faerun.add_scatter(\"T25analogs\",{\"x\": tm.VectorFloat(tm_layout_el[\"x\"]), \"y\": tm.VectorFloat(tm_layout_el[\"y\"]),\\\n",
    "                                \"c\": [HAC, cbd_r, selected, p_h_ratio],\\\n",
    "                          \"labels\": seq}, has_legend=True, \\\n",
    "    colormap=[\"rainbow\", \"rainbow_r\", custom_cmap, \"rainbow\"], \\\n",
    "        point_scale=0.05, categorical=[False, False, True, False],\\\n",
    "        series_title=[\"HAC\", \"CBD (rank)\", \"selection\", \"positive/hydrophobic residues ratio\"], \\\n",
    "            max_legend_label=[str(max(HAC)),str(max(cbd)), None, str(max(p_h_ratio))],\\\n",
    "                   min_legend_label=[str(min(HAC)), str(min(cbd)), None, str(min(p_h_ratio))],\\\n",
    "                    legend_labels=[None, None, labels_groups, None])\n",
    "\n",
    "\n",
    "faerun.add_tree(\"T25analogs_tree\", {\"from\": tm.VectorUint(tm_layout_el[\"s\"]), \"to\": tm.VectorUint(tm_layout_el[\"t\"])}, point_helper=\"T25analogs\", color=\"aaaaaa\")\n",
    "faerun.plot('MXFP_T25analogs_fract')"
   ]
  },
  {
   "cell_type": "code",
   "execution_count": null,
   "metadata": {},
   "outputs": [],
   "source": []
  }
 ],
 "metadata": {
  "kernelspec": {
   "display_name": "Python 3",
   "language": "python",
   "name": "python3"
  },
  "language_info": {
   "codemirror_mode": {
    "name": "ipython",
    "version": 3
   },
   "file_extension": ".py",
   "mimetype": "text/x-python",
   "name": "python",
   "nbconvert_exporter": "python",
   "pygments_lexer": "ipython3",
   "version": "3.6.10"
  }
 },
 "nbformat": 4,
 "nbformat_minor": 4
}
